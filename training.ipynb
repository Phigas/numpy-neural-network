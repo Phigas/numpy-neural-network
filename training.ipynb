{
 "cells": [
  {
   "cell_type": "code",
   "execution_count": 5,
   "metadata": {},
   "outputs": [
    {
     "name": "stderr",
     "output_type": "stream",
     "text": [
      "c:\\Users\\phiga\\miniconda3\\envs\\tf\\lib\\site-packages\\tqdm\\auto.py:22: TqdmWarning: IProgress not found. Please update jupyter and ipywidgets. See https://ipywidgets.readthedocs.io/en/stable/user_install.html\n",
      "  from .autonotebook import tqdm as notebook_tqdm\n"
     ]
    }
   ],
   "source": [
    "import numpy as np\n",
    "from layers import Function, Layer, NeuralNetwork\n",
    "\n",
    "import tensorflow_datasets as tfds\n",
    "import tensorflow as tf"
   ]
  },
  {
   "cell_type": "markdown",
   "metadata": {},
   "source": [
    "## Define functions"
   ]
  },
  {
   "cell_type": "code",
   "execution_count": 6,
   "metadata": {},
   "outputs": [],
   "source": [
    "sigma = lambda x: 1/(1+np.exp(-x))\n",
    "sigma_d =  lambda x: np.exp(-x)/(1+np.exp(-x))**2\n",
    "sigmoid = Function(sigma, sigma_d)\n",
    "\n",
    "def cost(Y, Yhat):\n",
    "    loss = []\n",
    "    for y, yhat in zip(Y.T, Yhat.T):\n",
    "        loss.append(-(y*np.log(yhat) + (1-y)*np.log(1-yhat)))\n",
    "    return np.mean(loss)\n",
    "\n",
    "def cost_d(Y, Yhat):\n",
    "    loss = []\n",
    "    for y, yhat in zip(Y.T, Yhat.T):\n",
    "        loss.append((yhat - y)/(yhat - yhat**2))\n",
    "    loss = np.array(loss)\n",
    "    return loss\n",
    "\n",
    "cost_function = Function(cost, cost_d)"
   ]
  },
  {
   "cell_type": "markdown",
   "metadata": {},
   "source": [
    "## Build dataset"
   ]
  },
  {
   "cell_type": "code",
   "execution_count": 7,
   "metadata": {},
   "outputs": [],
   "source": [
    "BATCH_SIZE = 4\n",
    "\n",
    "ds = tfds.load('mnist', split='train', shuffle_files=True)\n",
    "\n",
    "# Build your input pipeline\n",
    "ds = ds.shuffle(1024).batch(BATCH_SIZE).prefetch(tf.data.AUTOTUNE)"
   ]
  },
  {
   "cell_type": "markdown",
   "metadata": {},
   "source": [
    "## Define NN"
   ]
  },
  {
   "cell_type": "code",
   "execution_count": 8,
   "metadata": {},
   "outputs": [],
   "source": [
    "nn = NeuralNetwork(.001, cost_function)\n",
    "    \n",
    "nn.add_layer(Layer((28*28, BATCH_SIZE), 28*28, sigmoid))\n",
    "nn.add_layer(Layer((28*28, BATCH_SIZE), 10, sigmoid))"
   ]
  },
  {
   "cell_type": "markdown",
   "metadata": {},
   "source": [
    "## Train"
   ]
  },
  {
   "cell_type": "code",
   "execution_count": 9,
   "metadata": {},
   "outputs": [
    {
     "name": "stdout",
     "output_type": "stream",
     "text": [
      "=== cost of step 1 was 1.254069074179851     \n",
      "=== cost of step 2 was 0.9706730627824033     \n",
      "=== cost of step 3 was 0.5756897690905383     \n",
      "=== cost of step 4 was 0.7174115238766475     \n",
      "=== cost of step 5 was 0.7152769560710389     \n",
      "=== cost of step 6 was 0.2933349946690801     \n",
      "=== cost of step 7 was 0.36830960684261     \n",
      "=== cost of step 8 was 0.3577707076859295     \n",
      "=== cost of step 9 was 0.6112145418503048     \n",
      "=== cost of step 10 was 0.4451499225666927     \n",
      "=== cost of step 11 was 0.4637411983036344     \n",
      "=== cost of step 12 was 0.5250737760926956     \n",
      "=== cost of step 13 was 0.49635599361660265     \n",
      "=== cost of step 14 was 0.5372185874053553     \n",
      "=== cost of step 15 was 0.41969398215647036     \n",
      "=== cost of step 16 was 0.5097541653520847     \n",
      "=== cost of step 17 was 0.4696753981699439     \n",
      "=== cost of step 18 was 0.5272520105630794     \n",
      "=== cost of step 19 was 0.3817318731172127     \n",
      "=== cost of step 20 was 0.5001768664352475     \n",
      "=== cost of step 21 was 0.4645453599700794     \n",
      "=== cost of step 22 was 0.45112365292115475     \n",
      "=== cost of step 23 was 0.2991708053520418     \n",
      "=== cost of step 24 was 0.45982070885712656     \n",
      "====== setting learning rate to 1e-05\n",
      "=== cost of step 25 was 0.5880795310349168     \n",
      "=== cost of step 26 was 0.38269418040408826     \n",
      "=== cost of step 27 was 0.2975378980173765     \n",
      "=== cost of step 28 was 0.34431548983098237     \n",
      "=== cost of step 29 was 0.36989826946104454     \n",
      "=== cost of step 30 was 0.4367739405348295     \n"
     ]
    },
    {
     "name": "stderr",
     "output_type": "stream",
     "text": [
      "C:\\Users\\phiga\\AppData\\Local\\Temp\\ipykernel_11036\\3107589359.py:1: RuntimeWarning: overflow encountered in exp\n",
      "  sigma = lambda x: 1/(1+np.exp(-x))\n",
      "C:\\Users\\phiga\\AppData\\Local\\Temp\\ipykernel_11036\\3107589359.py:2: RuntimeWarning: overflow encountered in square\n",
      "  sigma_d =  lambda x: np.exp(-x)/(1+np.exp(-x))**2\n"
     ]
    },
    {
     "name": "stdout",
     "output_type": "stream",
     "text": [
      "=== cost of step 31 was 0.43248590049687935     \n",
      "=== cost of step 32 was 0.29417071916476584     \n",
      "=== cost of step 33 was 0.4319651338739646     \n",
      "=== cost of step 34 was 0.41319275385206816     \n",
      "=== cost of step 35 was 0.28357074900632556     \n",
      "=== cost of step 36 was 0.30335983489282453     \n",
      "=== cost of step 37 was 0.362185964441837     \n",
      "=== cost of step 38 was 0.5481618667442788     \n",
      "=== cost of step 39 was 0.3390341441229634     \n",
      "=== cost of step 40 was 0.3204611119190921     \n",
      "=== cost of step 41 was 0.546236005624472     \n",
      "=== cost of step 42 was 0.43869078986554955     \n",
      "=== cost of step 43 was 0.4829006011951112     \n",
      "=== cost of step 44 was 0.37558756958267725     \n",
      "=== cost of step 45 was 0.3819097554467289     \n",
      "=== cost of step 46 was 0.3896337397172071     \n",
      "=== cost of step 47 was 0.5242003006581922     \n",
      "=== cost of step 48 was 0.3051653099678055     \n",
      "=== cost of step 49 was 0.5544145595856886     \n",
      "====== setting learning rate to 1.0000000000000001e-07\n",
      "=== cost of step 50 was 0.36213935947940196     \n",
      "=== cost of step 51 was 0.5124621622672095     \n",
      "=== cost of step 52 was 0.4731515952606193     \n",
      "=== cost of step 53 was 0.5327174397555798     \n",
      "=== cost of step 54 was 0.7008678560205219     \n",
      "=== cost of step 55 was 0.3633659920869412     \n",
      "=== cost of step 56 was 0.4637086258560599     \n",
      "=== cost of step 57 was 0.393383168216734     \n",
      "=== cost of step 58 was 0.47126925906643413     \n",
      "=== cost of step 59 was 0.556145208309238     \n",
      "=== cost of step 60 was 0.33214340587809327     \n",
      "=== cost of step 61 was 0.42365573137535417     \n",
      "=== cost of step 62 was 0.4902341620866445     \n",
      "=== cost of step 63 was 0.6393769467610831     \n",
      "=== cost of step 64 was 0.6029578512215475     \n",
      "=== cost of step 65 was 0.33263175968600517     \n",
      "=== cost of step 66 was 0.4367835895989275     \n",
      "=== cost of step 67 was 0.35022791900654426     \n",
      "=== cost of step 68 was 0.5104186740225403     \n",
      "=== cost of step 69 was 0.47614370435174214     \n",
      "=== cost of step 70 was 0.5586649585058984     \n",
      "=== cost of step 71 was 0.33591706521624404     \n",
      "=== cost of step 72 was 0.4572665412566005     \n",
      "=== cost of step 73 was 0.3456211594558633     \n",
      "=== cost of step 74 was 0.39267943268811284     \n",
      "====== setting learning rate to 1e-09\n",
      "=== cost of step 75 was 0.3755107368237487     \n",
      "=== cost of step 76 was 0.4061790678498247     \n",
      "=== cost of step 77 was 0.4014576510217508     \n",
      "=== cost of step 78 was 0.39049849500323763     \n",
      "=== cost of step 79 was 0.46624718747527966     \n",
      "=== cost of step 80 was 0.3367684061136337     \n",
      "=== cost of step 81 was 0.43783022855868153     \n",
      "=== cost of step 82 was 0.4467028425255656     \n",
      "=== cost of step 83 was 0.48693040343499366     \n",
      "=== cost of step 84 was 0.3757094643691702     \n",
      "=== cost of step 85 was 0.3999773043701258     \n",
      "=== cost of step 86 was 0.5570118008091653     \n",
      "=== cost of step 87 was 0.3532427636135177     \n",
      "=== cost of step 88 was 0.44998314996097866     \n",
      "=== cost of step 89 was 0.3565682163101682     \n",
      "=== cost of step 90 was 0.35978049030447873     \n",
      "=== cost of step 91 was 0.4322377411176978     \n",
      "=== cost of step 92 was 0.5568604042269923     \n",
      "=== cost of step 93 was 0.5444130487548715     \n",
      "=== cost of step 94 was 0.30419221002514474     \n",
      "=== cost of step 95 was 0.4377989796556204     \n",
      "=== cost of step 96 was 0.4004015402706026     \n",
      "=== cost of step 97 was 0.3920256076854979     \n",
      "=== cost of step 98 was 0.34344271854537267     \n",
      "=== cost of step 99 was 0.32213792339936415     \n",
      "=== cost of step 100 was 0.5416473311341694     \n"
     ]
    }
   ],
   "source": [
    "TRAIN_STEPS = 100\n",
    "    \n",
    "costs = []\n",
    "i = 1\n",
    "\n",
    "for example in tfds.as_numpy(ds):\n",
    "    print(f'--> running step: {i}', end='\\r')\n",
    "    \n",
    "    # learning rate schedule\n",
    "    if i == 25 or i == 50 or i == 75:\n",
    "        nn.learning_rate /= 100\n",
    "        print(f'====== setting learning rate to {nn.learning_rate}')\n",
    "    \n",
    "    image, label = example[\"image\"], example[\"label\"]\n",
    "    \n",
    "    # preprocessing\n",
    "    image = np.resize(image, (BATCH_SIZE, 28*28))\n",
    "    image = np.moveaxis(image, [0,1], [1,0])\n",
    "    \n",
    "    label_vec = np.zeros((10, BATCH_SIZE))\n",
    "    for u, l in enumerate(label):\n",
    "        label_vec[l, u] = 1\n",
    "\n",
    "    # correct datatypes\n",
    "    image = image.astype(np.float64)\n",
    "    \n",
    "    cos = nn.train_step(image, label_vec)\n",
    "    print(f'=== cost of step {i} was {cos}     ')\n",
    "    costs.append(cos)\n",
    "    \n",
    "    if i == TRAIN_STEPS:\n",
    "        break\n",
    "    i += 1"
   ]
  },
  {
   "cell_type": "code",
   "execution_count": 10,
   "metadata": {},
   "outputs": [
    {
     "data": {
      "image/png": "[encoded data removed]",
      "image/svg+xml": "<?xml version=\"1.0\" encoding=\"utf-8\" standalone=\"no\"?>\n<!DOCTYPE svg PUBLIC \"-//W3C//DTD SVG 1.1//EN\"\n  \"http://www.w3.org/Graphics/SVG/1.1/DTD/svg11.dtd\">\n<svg xmlns:xlink=\"http://www.w3.org/1999/xlink\" width=\"372.103125pt\" height=\"248.518125pt\" viewBox=\"0 0 372.103125 248.518125\" xmlns=\"http://www.w3.org/2000/svg\" version=\"1.1\">\n <metadata>\n  <rdf:RDF xmlns:dc=\"http://purl.org/dc/elements/1.1/\" xmlns:cc=\"http://creativecommons.org/ns#\" xmlns:rdf=\"http://www.w3.org/1999/02/22-rdf-syntax-ns#\">\n   <cc:Work>\n    <dc:type rdf:resource=\"http://purl.org/dc/dcmitype/StillImage\"/>\n    <dc:date>2022-08-23T19:43:20.889335</dc:date>\n    <dc:format>image/svg+xml</dc:format>\n    <dc:creator>\n     <cc:Agent>\n      <dc:title>Matplotlib v3.5.3, https://matplotlib.org/</dc:title>\n     </cc:Agent>\n    </dc:creator>\n   </cc:Work>\n  </rdf:RDF>\n </metadata>\n <defs>\n  <style type=\"text/css\">*{stroke-linejoin: round; stroke-linecap: butt}</style>\n </defs>\n <g id=\"figure_1\">\n  <g id=\"patch_1\">\n   <path d=\"M 0 248.518125 \nL 372.103125 248.518125 \nL 372.103125 0 \nL 0 0 \nL 0 248.518125 \nz\n\" style=\"fill: none\"/>\n  </g>\n  <g id=\"axes_1\">\n   <g id=\"patch_2\">\n    <path d=\"M 30.103125 224.64 \nL 364.903125 224.64 \nL 364.903125 7.2 \nL 30.103125 7.2 \nz\n\" style=\"fill: #ffffff\"/>\n   </g>\n   <g id=\"matplotlib.axis_1\">\n    <g id=\"xtick_1\">\n     <g id=\"line2d_1\">\n      <defs>\n       <path id=\"mb2030eb018\" d=\"M 0 0 \nL 0 3.5 \n\" style=\"stroke: #000000; stroke-width: 0.8\"/>\n      </defs>\n      <g>\n       <use xlink:href=\"#mb2030eb018\" x=\"45.321307\" y=\"224.64\" style=\"stroke: #000000; stroke-width: 0.8\"/>\n      </g>\n     </g>\n     <g id=\"text_1\">\n      <!-- 0 -->\n      <g transform=\"translate(42.140057 239.238437)scale(0.1 -0.1)\">\n       <defs>\n        <path id=\"DejaVuSans-30\" d=\"M 2034 4250 \nQ 1547 4250 1301 3770 \nQ 1056 3291 1056 2328 \nQ 1056 1369 1301 889 \nQ 1547 409 2034 409 \nQ 2525 409 2770 889 \nQ 3016 1369 3016 2328 \nQ 3016 3291 2770 3770 \nQ 2525 4250 2034 4250 \nz\nM 2034 4750 \nQ 2819 4750 3233 4129 \nQ 3647 3509 3647 2328 \nQ 3647 1150 3233 529 \nQ 2819 -91 2034 -91 \nQ 1250 -91 836 529 \nQ 422 1150 422 2328 \nQ 422 3509 836 4129 \nQ 1250 4750 2034 4750 \nz\n\" transform=\"scale(0.015625)\"/>\n       </defs>\n       <use xlink:href=\"#DejaVuSans-30\"/>\n      </g>\n     </g>\n    </g>\n    <g id=\"xtick_2\">\n     <g id=\"line2d_2\">\n      <g>\n       <use xlink:href=\"#mb2030eb018\" x=\"106.80891\" y=\"224.64\" style=\"stroke: #000000; stroke-width: 0.8\"/>\n      </g>\n     </g>\n     <g id=\"text_2\">\n      <!-- 20 -->\n      <g transform=\"translate(100.44641 239.238437)scale(0.1 -0.1)\">\n       <defs>\n        <path id=\"DejaVuSans-32\" d=\"M 1228 531 \nL 3431 531 \nL 3431 0 \nL 469 0 \nL 469 531 \nQ 828 903 1448 1529 \nQ 2069 2156 2228 2338 \nQ 2531 2678 2651 2914 \nQ 2772 3150 2772 3378 \nQ 2772 3750 2511 3984 \nQ 2250 4219 1831 4219 \nQ 1534 4219 1204 4116 \nQ 875 4013 500 3803 \nL 500 4441 \nQ 881 4594 1212 4672 \nQ 1544 4750 1819 4750 \nQ 2544 4750 2975 4387 \nQ 3406 4025 3406 3419 \nQ 3406 3131 3298 2873 \nQ 3191 2616 2906 2266 \nQ 2828 2175 2409 1742 \nQ 1991 1309 1228 531 \nz\n\" transform=\"scale(0.015625)\"/>\n       </defs>\n       <use xlink:href=\"#DejaVuSans-32\"/>\n       <use xlink:href=\"#DejaVuSans-30\" x=\"63.623047\"/>\n      </g>\n     </g>\n    </g>\n    <g id=\"xtick_3\">\n     <g id=\"line2d_3\">\n      <g>\n       <use xlink:href=\"#mb2030eb018\" x=\"168.296513\" y=\"224.64\" style=\"stroke: #000000; stroke-width: 0.8\"/>\n      </g>\n     </g>\n     <g id=\"text_3\">\n      <!-- 40 -->\n      <g transform=\"translate(161.934013 239.238437)scale(0.1 -0.1)\">\n       <defs>\n        <path id=\"DejaVuSans-34\" d=\"M 2419 4116 \nL 825 1625 \nL 2419 1625 \nL 2419 4116 \nz\nM 2253 4666 \nL 3047 4666 \nL 3047 1625 \nL 3713 1625 \nL 3713 1100 \nL 3047 1100 \nL 3047 0 \nL 2419 0 \nL 2419 1100 \nL 313 1100 \nL 313 1709 \nL 2253 4666 \nz\n\" transform=\"scale(0.015625)\"/>\n       </defs>\n       <use xlink:href=\"#DejaVuSans-34\"/>\n       <use xlink:href=\"#DejaVuSans-30\" x=\"63.623047\"/>\n      </g>\n     </g>\n    </g>\n    <g id=\"xtick_4\">\n     <g id=\"line2d_4\">\n      <g>\n       <use xlink:href=\"#mb2030eb018\" x=\"229.784117\" y=\"224.64\" style=\"stroke: #000000; stroke-width: 0.8\"/>\n      </g>\n     </g>\n     <g id=\"text_4\">\n      <!-- 60 -->\n      <g transform=\"translate(223.421617 239.238437)scale(0.1 -0.1)\">\n       <defs>\n        <path id=\"DejaVuSans-36\" d=\"M 2113 2584 \nQ 1688 2584 1439 2293 \nQ 1191 2003 1191 1497 \nQ 1191 994 1439 701 \nQ 1688 409 2113 409 \nQ 2538 409 2786 701 \nQ 3034 994 3034 1497 \nQ 3034 2003 2786 2293 \nQ 2538 2584 2113 2584 \nz\nM 3366 4563 \nL 3366 3988 \nQ 3128 4100 2886 4159 \nQ 2644 4219 2406 4219 \nQ 1781 4219 1451 3797 \nQ 1122 3375 1075 2522 \nQ 1259 2794 1537 2939 \nQ 1816 3084 2150 3084 \nQ 2853 3084 3261 2657 \nQ 3669 2231 3669 1497 \nQ 3669 778 3244 343 \nQ 2819 -91 2113 -91 \nQ 1303 -91 875 529 \nQ 447 1150 447 2328 \nQ 447 3434 972 4092 \nQ 1497 4750 2381 4750 \nQ 2619 4750 2861 4703 \nQ 3103 4656 3366 4563 \nz\n\" transform=\"scale(0.015625)\"/>\n       </defs>\n       <use xlink:href=\"#DejaVuSans-36\"/>\n       <use xlink:href=\"#DejaVuSans-30\" x=\"63.623047\"/>\n      </g>\n     </g>\n    </g>\n    <g id=\"xtick_5\">\n     <g id=\"line2d_5\">\n      <g>\n       <use xlink:href=\"#mb2030eb018\" x=\"291.27172\" y=\"224.64\" style=\"stroke: #000000; stroke-width: 0.8\"/>\n      </g>\n     </g>\n     <g id=\"text_5\">\n      <!-- 80 -->\n      <g transform=\"translate(284.90922 239.238437)scale(0.1 -0.1)\">\n       <defs>\n        <path id=\"DejaVuSans-38\" d=\"M 2034 2216 \nQ 1584 2216 1326 1975 \nQ 1069 1734 1069 1313 \nQ 1069 891 1326 650 \nQ 1584 409 2034 409 \nQ 2484 409 2743 651 \nQ 3003 894 3003 1313 \nQ 3003 1734 2745 1975 \nQ 2488 2216 2034 2216 \nz\nM 1403 2484 \nQ 997 2584 770 2862 \nQ 544 3141 544 3541 \nQ 544 4100 942 4425 \nQ 1341 4750 2034 4750 \nQ 2731 4750 3128 4425 \nQ 3525 4100 3525 3541 \nQ 3525 3141 3298 2862 \nQ 3072 2584 2669 2484 \nQ 3125 2378 3379 2068 \nQ 3634 1759 3634 1313 \nQ 3634 634 3220 271 \nQ 2806 -91 2034 -91 \nQ 1263 -91 848 271 \nQ 434 634 434 1313 \nQ 434 1759 690 2068 \nQ 947 2378 1403 2484 \nz\nM 1172 3481 \nQ 1172 3119 1398 2916 \nQ 1625 2713 2034 2713 \nQ 2441 2713 2670 2916 \nQ 2900 3119 2900 3481 \nQ 2900 3844 2670 4047 \nQ 2441 4250 2034 4250 \nQ 1625 4250 1398 4047 \nQ 1172 3844 1172 3481 \nz\n\" transform=\"scale(0.015625)\"/>\n       </defs>\n       <use xlink:href=\"#DejaVuSans-38\"/>\n       <use xlink:href=\"#DejaVuSans-30\" x=\"63.623047\"/>\n      </g>\n     </g>\n    </g>\n    <g id=\"xtick_6\">\n     <g id=\"line2d_6\">\n      <g>\n       <use xlink:href=\"#mb2030eb018\" x=\"352.759323\" y=\"224.64\" style=\"stroke: #000000; stroke-width: 0.8\"/>\n      </g>\n     </g>\n     <g id=\"text_6\">\n      <!-- 100 -->\n      <g transform=\"translate(343.215573 239.238437)scale(0.1 -0.1)\">\n       <defs>\n        <path id=\"DejaVuSans-31\" d=\"M 794 531 \nL 1825 531 \nL 1825 4091 \nL 703 3866 \nL 703 4441 \nL 1819 4666 \nL 2450 4666 \nL 2450 531 \nL 3481 531 \nL 3481 0 \nL 794 0 \nL 794 531 \nz\n\" transform=\"scale(0.015625)\"/>\n       </defs>\n       <use xlink:href=\"#DejaVuSans-31\"/>\n       <use xlink:href=\"#DejaVuSans-30\" x=\"63.623047\"/>\n       <use xlink:href=\"#DejaVuSans-30\" x=\"127.246094\"/>\n      </g>\n     </g>\n    </g>\n   </g>\n   <g id=\"matplotlib.axis_2\">\n    <g id=\"ytick_1\">\n     <g id=\"line2d_7\">\n      <defs>\n       <path id=\"m6ec3730d70\" d=\"M 0 0 \nL -3.5 0 \n\" style=\"stroke: #000000; stroke-width: 0.8\"/>\n      </defs>\n      <g>\n       <use xlink:href=\"#m6ec3730d70\" x=\"30.103125\" y=\"191.041858\" style=\"stroke: #000000; stroke-width: 0.8\"/>\n      </g>\n     </g>\n     <g id=\"text_7\">\n      <!-- 0.4 -->\n      <g transform=\"translate(7.2 194.841077)scale(0.1 -0.1)\">\n       <defs>\n        <path id=\"DejaVuSans-2e\" d=\"M 684 794 \nL 1344 794 \nL 1344 0 \nL 684 0 \nL 684 794 \nz\n\" transform=\"scale(0.015625)\"/>\n       </defs>\n       <use xlink:href=\"#DejaVuSans-30\"/>\n       <use xlink:href=\"#DejaVuSans-2e\" x=\"63.623047\"/>\n       <use xlink:href=\"#DejaVuSans-34\" x=\"95.410156\"/>\n      </g>\n     </g>\n    </g>\n    <g id=\"ytick_2\">\n     <g id=\"line2d_8\">\n      <g>\n       <use xlink:href=\"#m6ec3730d70\" x=\"30.103125\" y=\"150.305523\" style=\"stroke: #000000; stroke-width: 0.8\"/>\n      </g>\n     </g>\n     <g id=\"text_8\">\n      <!-- 0.6 -->\n      <g transform=\"translate(7.2 154.104742)scale(0.1 -0.1)\">\n       <use xlink:href=\"#DejaVuSans-30\"/>\n       <use xlink:href=\"#DejaVuSans-2e\" x=\"63.623047\"/>\n       <use xlink:href=\"#DejaVuSans-36\" x=\"95.410156\"/>\n      </g>\n     </g>\n    </g>\n    <g id=\"ytick_3\">\n     <g id=\"line2d_9\">\n      <g>\n       <use xlink:href=\"#m6ec3730d70\" x=\"30.103125\" y=\"109.569187\" style=\"stroke: #000000; stroke-width: 0.8\"/>\n      </g>\n     </g>\n     <g id=\"text_9\">\n      <!-- 0.8 -->\n      <g transform=\"translate(7.2 113.368406)scale(0.1 -0.1)\">\n       <use xlink:href=\"#DejaVuSans-30\"/>\n       <use xlink:href=\"#DejaVuSans-2e\" x=\"63.623047\"/>\n       <use xlink:href=\"#DejaVuSans-38\" x=\"95.410156\"/>\n      </g>\n     </g>\n    </g>\n    <g id=\"ytick_4\">\n     <g id=\"line2d_10\">\n      <g>\n       <use xlink:href=\"#m6ec3730d70\" x=\"30.103125\" y=\"68.832852\" style=\"stroke: #000000; stroke-width: 0.8\"/>\n      </g>\n     </g>\n     <g id=\"text_10\">\n      <!-- 1.0 -->\n      <g transform=\"translate(7.2 72.63207)scale(0.1 -0.1)\">\n       <use xlink:href=\"#DejaVuSans-31\"/>\n       <use xlink:href=\"#DejaVuSans-2e\" x=\"63.623047\"/>\n       <use xlink:href=\"#DejaVuSans-30\" x=\"95.410156\"/>\n      </g>\n     </g>\n    </g>\n    <g id=\"ytick_5\">\n     <g id=\"line2d_11\">\n      <g>\n       <use xlink:href=\"#m6ec3730d70\" x=\"30.103125\" y=\"28.096516\" style=\"stroke: #000000; stroke-width: 0.8\"/>\n      </g>\n     </g>\n     <g id=\"text_11\">\n      <!-- 1.2 -->\n      <g transform=\"translate(7.2 31.895735)scale(0.1 -0.1)\">\n       <use xlink:href=\"#DejaVuSans-31\"/>\n       <use xlink:href=\"#DejaVuSans-2e\" x=\"63.623047\"/>\n       <use xlink:href=\"#DejaVuSans-32\" x=\"95.410156\"/>\n      </g>\n     </g>\n    </g>\n   </g>\n   <g id=\"line2d_12\">\n    <path d=\"M 45.321307 17.083636 \nL 48.395687 74.806211 \nL 51.470067 155.257071 \nL 54.544447 126.390947 \nL 57.618827 126.825719 \nL 60.693208 212.767566 \nL 63.767588 197.496611 \nL 66.841968 199.643192 \nL 69.916348 148.021326 \nL 72.990728 181.845646 \nL 76.065108 178.058944 \nL 79.139489 165.566622 \nL 82.213869 171.415908 \nL 85.288249 163.092946 \nL 88.362629 187.030555 \nL 91.437009 168.686946 \nL 94.511389 176.850256 \nL 97.58577 165.122955 \nL 100.66015 194.762741 \nL 103.73453 170.637666 \nL 106.80891 177.895151 \nL 109.88329 180.628907 \nL 112.95767 211.578918 \nL 116.032051 178.857476 \nL 119.106431 152.733504 \nL 122.180811 194.566737 \nL 125.255191 211.911511 \nL 128.329571 202.383773 \nL 131.403951 197.173029 \nL 134.478332 183.551681 \nL 137.552712 184.425076 \nL 140.627092 212.597344 \nL 143.701472 184.531146 \nL 146.775852 188.354736 \nL 149.850232 214.756364 \nL 152.924613 210.725689 \nL 155.998993 198.743885 \nL 159.073373 160.864001 \nL 162.147753 203.459486 \nL 165.222133 207.242473 \nL 168.296513 161.256263 \nL 171.370894 183.161253 \nL 174.445274 174.156525 \nL 177.519654 196.014223 \nL 180.594034 194.72651 \nL 183.668414 193.153276 \nL 186.742794 165.744533 \nL 189.817175 210.357947 \nL 192.891555 159.590442 \nL 195.965935 198.753377 \nL 199.040315 168.135377 \nL 202.114695 176.142219 \nL 205.189075 164.009748 \nL 208.263456 129.760589 \nL 211.337836 198.503535 \nL 214.412216 178.065579 \nL 217.486596 192.389586 \nL 220.560976 176.525616 \nL 223.635356 159.23794 \nL 226.709737 204.863003 \nL 229.784117 186.223619 \nL 232.858497 172.662813 \nL 235.932877 142.28516 \nL 239.007257 149.703063 \nL 242.081637 204.763535 \nL 245.156018 183.549715 \nL 248.230398 201.179519 \nL 251.304778 168.551598 \nL 254.379158 175.532781 \nL 257.453538 158.724713 \nL 260.527918 204.094378 \nL 263.602299 179.377713 \nL 266.676679 202.117832 \nL 269.751059 192.532924 \nL 272.825439 196.029873 \nL 275.899819 189.783296 \nL 278.974199 190.744962 \nL 282.04858 192.977141 \nL 285.12296 177.54852 \nL 288.19734 203.920976 \nL 291.27172 183.336534 \nL 294.3461 181.529345 \nL 297.42048 173.335728 \nL 300.494861 195.989395 \nL 303.569241 191.046481 \nL 306.643621 159.061431 \nL 309.718001 200.565451 \nL 312.792381 180.861207 \nL 315.866761 199.888117 \nL 318.941142 199.233836 \nL 322.015522 184.475621 \nL 325.089902 159.092268 \nL 328.164282 161.627566 \nL 331.238662 210.55615 \nL 334.313042 183.342899 \nL 337.387423 190.960072 \nL 340.461803 192.666096 \nL 343.536183 202.56154 \nL 346.610563 206.900937 \nL 349.684943 162.190892 \n\" clip-path=\"url(#pb7a73304a2)\" style=\"fill: none; stroke: #1f77b4; stroke-width: 1.5; stroke-linecap: square\"/>\n   </g>\n   <g id=\"patch_3\">\n    <path d=\"M 30.103125 224.64 \nL 30.103125 7.2 \n\" style=\"fill: none; stroke: #000000; stroke-width: 0.8; stroke-linejoin: miter; stroke-linecap: square\"/>\n   </g>\n   <g id=\"patch_4\">\n    <path d=\"M 364.903125 224.64 \nL 364.903125 7.2 \n\" style=\"fill: none; stroke: #000000; stroke-width: 0.8; stroke-linejoin: miter; stroke-linecap: square\"/>\n   </g>\n   <g id=\"patch_5\">\n    <path d=\"M 30.103125 224.64 \nL 364.903125 224.64 \n\" style=\"fill: none; stroke: #000000; stroke-width: 0.8; stroke-linejoin: miter; stroke-linecap: square\"/>\n   </g>\n   <g id=\"patch_6\">\n    <path d=\"M 30.103125 7.2 \nL 364.903125 7.2 \n\" style=\"fill: none; stroke: #000000; stroke-width: 0.8; stroke-linejoin: miter; stroke-linecap: square\"/>\n   </g>\n  </g>\n </g>\n <defs>\n  <clipPath id=\"pb7a73304a2\">\n   <rect x=\"30.103125\" y=\"7.2\" width=\"334.8\" height=\"217.44\"/>\n  </clipPath>\n </defs>\n</svg>\n",
      "text/plain": [
       "<Figure size 432x288 with 1 Axes>"
      ]
     },
     "metadata": {
      "needs_background": "light"
     },
     "output_type": "display_data"
    }
   ],
   "source": [
    "from matplotlib import pyplot as plt\n",
    "\n",
    "plt.plot(costs)\n",
    "plt.show()"
   ]
  },
  {
   "cell_type": "markdown",
   "metadata": {},
   "source": [
    "## Inference"
   ]
  },
  {
   "cell_type": "code",
   "execution_count": 12,
   "metadata": {},
   "outputs": [
    {
     "name": "stdout",
     "output_type": "stream",
     "text": [
      "=== evaluating image\n",
      "=== this image is an [9 3 1 7]\n",
      "[[0. 0. 0. 0.]\n",
      " [0. 0. 1. 0.]\n",
      " [0. 0. 0. 0.]\n",
      " [0. 1. 0. 0.]\n",
      " [0. 0. 0. 0.]\n",
      " [0. 0. 0. 0.]\n",
      " [0. 0. 0. 0.]\n",
      " [0. 0. 0. 1.]\n",
      " [0. 0. 0. 0.]\n",
      " [1. 0. 0. 0.]]\n",
      "[[0.17703362 0.08925604 0.0970493  0.02508355]\n",
      " [0.00903339 0.10036131 0.04599159 0.10596797]\n",
      " [0.00216306 0.18716522 0.04137383 0.08354089]\n",
      " [0.01297471 0.15634408 0.04554058 0.06497675]\n",
      " [0.06819299 0.36101197 0.00941125 0.00324511]\n",
      " [0.00355722 0.00364446 0.26694827 0.01413626]\n",
      " [0.00093586 0.21233695 0.20298436 0.02014794]\n",
      " [0.06452959 0.02426917 0.35804381 0.02626265]\n",
      " [0.04231694 0.06775397 0.021484   0.33076412]\n",
      " [0.00460494 0.00424667 0.01247579 0.25682399]]\n"
     ]
    },
    {
     "name": "stderr",
     "output_type": "stream",
     "text": [
      "C:\\Users\\phiga\\AppData\\Local\\Temp\\ipykernel_11036\\3107589359.py:1: RuntimeWarning: overflow encountered in exp\n",
      "  sigma = lambda x: 1/(1+np.exp(-x))\n"
     ]
    },
    {
     "data": {
      "image/png": "[encoded data removed]",
      "image/svg+xml": "<?xml version=\"1.0\" encoding=\"utf-8\" standalone=\"no\"?>\n<!DOCTYPE svg PUBLIC \"-//W3C//DTD SVG 1.1//EN\"\n  \"http://www.w3.org/Graphics/SVG/1.1/DTD/svg11.dtd\">\n<svg xmlns:xlink=\"http://www.w3.org/1999/xlink\" width=\"315.579545pt\" height=\"250.552409pt\" viewBox=\"0 0 315.579545 250.552409\" xmlns=\"http://www.w3.org/2000/svg\" version=\"1.1\">\n <metadata>\n  <rdf:RDF xmlns:dc=\"http://purl.org/dc/elements/1.1/\" xmlns:cc=\"http://creativecommons.org/ns#\" xmlns:rdf=\"http://www.w3.org/1999/02/22-rdf-syntax-ns#\">\n   <cc:Work>\n    <dc:type rdf:resource=\"http://purl.org/dc/dcmitype/StillImage\"/>\n    <dc:date>2022-08-23T19:44:10.100744</dc:date>\n    <dc:format>image/svg+xml</dc:format>\n    <dc:creator>\n     <cc:Agent>\n      <dc:title>Matplotlib v3.5.3, https://matplotlib.org/</dc:title>\n     </cc:Agent>\n    </dc:creator>\n   </cc:Work>\n  </rdf:RDF>\n </metadata>\n <defs>\n  <style type=\"text/css\">*{stroke-linejoin: round; stroke-linecap: butt}</style>\n </defs>\n <g id=\"figure_1\">\n  <g id=\"patch_1\">\n   <path d=\"M 0 250.552409 \nL 315.579545 250.552409 \nL 315.579545 0 \nL 0 0 \nL 0 250.552409 \nz\n\" style=\"fill: none\"/>\n  </g>\n  <g id=\"axes_1\">\n   <g id=\"patch_2\">\n    <path d=\"M 26.925 108.070647 \nL 125.761364 108.070647 \nL 125.761364 9.234284 \nL 26.925 9.234284 \nz\n\" style=\"fill: #ffffff\"/>\n   </g>\n   <g clip-path=\"url(#p1cf76cb5d7)\">\n    <image xlink:href=\"data:image/png;base64,\niVBORw0KGgoAAAANSUhEUgAAAGMAAABjCAYAAACPO76VAAADb0lEQVR4nO2cMUsrQRSFJ8+nEGMhookgmNZCsIo/QBFL08RGi3Rikyq9nYVg53+QoJDCWFmotaiFSApF1BAEhQREVMREq3ff3oH1BXFnz2PPV53hojPwcWeWySYxY8yHIRD8CnsB5C+UAQRlAEEZQFAGEJQBxO+wF+CatbU1NV5cXJQ8Njamao+Pj07W9Ad2BhCUAQRlABEzEbgO6e7ulvz09ORbGx4eVrX7+/tgF2bBzgCCMoCIxKNtNpuV7N2WjDHm4uJCsr2FuYadAQRlAEEZQETizIjH476129tbyc/Pzy6W4ws7AwjKAIIygKAMICgDCMoAIhKPtl1dXb61VqvlcCVfw84AgjKAiMQ2NT8/71srlUoOV/I17AwgKAMIygCCMoCgDCAoAwioR1v7Xdfl5WXJuVxO1Xp6eiSfn5+r2vb2thr39/f/0AqDhZ0BBGUAQRlAhP6u7ezsrGR7r08kEpLr9bqqNZtNyUNDQ6qWSqU6nj+TyUg+Pj7u+O+CgJ0BBGUAEfo2tbe3J3l6elrVKpWK5KWlJVW7u7uTnEwmVW19fV2NFxYWfOf3boUvLy8drDg42BlAUAYQlAGE8zNjYGBAjS8vLyXb1xYjIyOSvWfEv0in02p8eHgo+fr6WtWmpqYkt9vtjucIAnYGEJQBBGUA4fwK3f5O3VfX2w8PD9+a4+bmRo2r1arkwcFBVYvFYt+aIwjYGUBQBhBQn/T9FH19fWo8MTEh2f4VBO8nhrwOIQJlAEEZQDg/M97e3tS40WhItq9KvG+EbG5udjzH6OioGtvnBCrsDCAoAwjn25T3RQJjjDk9PZVsf9I3MzMjeWtrS9Xe39995/DexNrs7u6q8evrq/9iHcPOAIIygKAMIEK/DlldXZU8OTmpavl8XvLJyYmqbWxs+P7Ps7Mz35r9aP3xgfN7mewMICgDiNC3qf39fclzc3OqtrOzI9m7nRljTK1Wk3x0dKRqvb29P7lEZ7AzgKAMICgDiNDPDC8HBwdq7D0nVlZWVK1cLrtYklPYGUBQBhChfz+jU8bHx9W4UChItr+WbL+LdXV1JblYLKoa0nbHzgCCMoCgDCD+mzMjCrAzgKAMICgDCMoAgjKAoAwgKAMIygCCMoCgDCAoAwjKAIIygKAMICgDCMoAgjKAoAwgKAMIygDiE12Sqvxu//4WAAAAAElFTkSuQmCC\" id=\"imagef973a06c88\" transform=\"scale(1 -1)translate(0 -99)\" x=\"26.925\" y=\"-9.070647\" width=\"99\" height=\"99\"/>\n   </g>\n   <g id=\"matplotlib.axis_1\">\n    <g id=\"xtick_1\">\n     <g id=\"line2d_1\">\n      <defs>\n       <path id=\"m15be108ef9\" d=\"M 0 0 \nL 0 3.5 \n\" style=\"stroke: #000000; stroke-width: 0.8\"/>\n      </defs>\n      <g>\n       <use xlink:href=\"#m15be108ef9\" x=\"28.689935\" y=\"108.070647\" style=\"stroke: #000000; stroke-width: 0.8\"/>\n      </g>\n     </g>\n     <g id=\"text_1\">\n      <!-- 0 -->\n      <g transform=\"translate(25.508685 122.669085)scale(0.1 -0.1)\">\n       <defs>\n        <path id=\"DejaVuSans-30\" d=\"M 2034 4250 \nQ 1547 4250 1301 3770 \nQ 1056 3291 1056 2328 \nQ 1056 1369 1301 889 \nQ 1547 409 2034 409 \nQ 2525 409 2770 889 \nQ 3016 1369 3016 2328 \nQ 3016 3291 2770 3770 \nQ 2525 4250 2034 4250 \nz\nM 2034 4750 \nQ 2819 4750 3233 4129 \nQ 3647 3509 3647 2328 \nQ 3647 1150 3233 529 \nQ 2819 -91 2034 -91 \nQ 1250 -91 836 529 \nQ 422 1150 422 2328 \nQ 422 3509 836 4129 \nQ 1250 4750 2034 4750 \nz\n\" transform=\"scale(0.015625)\"/>\n       </defs>\n       <use xlink:href=\"#DejaVuSans-30\"/>\n      </g>\n     </g>\n    </g>\n    <g id=\"xtick_2\">\n     <g id=\"line2d_2\">\n      <g>\n       <use xlink:href=\"#m15be108ef9\" x=\"63.988636\" y=\"108.070647\" style=\"stroke: #000000; stroke-width: 0.8\"/>\n      </g>\n     </g>\n     <g id=\"text_2\">\n      <!-- 10 -->\n      <g transform=\"translate(57.626136 122.669085)scale(0.1 -0.1)\">\n       <defs>\n        <path id=\"DejaVuSans-31\" d=\"M 794 531 \nL 1825 531 \nL 1825 4091 \nL 703 3866 \nL 703 4441 \nL 1819 4666 \nL 2450 4666 \nL 2450 531 \nL 3481 531 \nL 3481 0 \nL 794 0 \nL 794 531 \nz\n\" transform=\"scale(0.015625)\"/>\n       </defs>\n       <use xlink:href=\"#DejaVuSans-31\"/>\n       <use xlink:href=\"#DejaVuSans-30\" x=\"63.623047\"/>\n      </g>\n     </g>\n    </g>\n    <g id=\"xtick_3\">\n     <g id=\"line2d_3\">\n      <g>\n       <use xlink:href=\"#m15be108ef9\" x=\"99.287338\" y=\"108.070647\" style=\"stroke: #000000; stroke-width: 0.8\"/>\n      </g>\n     </g>\n     <g id=\"text_3\">\n      <!-- 20 -->\n      <g transform=\"translate(92.924838 122.669085)scale(0.1 -0.1)\">\n       <defs>\n        <path id=\"DejaVuSans-32\" d=\"M 1228 531 \nL 3431 531 \nL 3431 0 \nL 469 0 \nL 469 531 \nQ 828 903 1448 1529 \nQ 2069 2156 2228 2338 \nQ 2531 2678 2651 2914 \nQ 2772 3150 2772 3378 \nQ 2772 3750 2511 3984 \nQ 2250 4219 1831 4219 \nQ 1534 4219 1204 4116 \nQ 875 4013 500 3803 \nL 500 4441 \nQ 881 4594 1212 4672 \nQ 1544 4750 1819 4750 \nQ 2544 4750 2975 4387 \nQ 3406 4025 3406 3419 \nQ 3406 3131 3298 2873 \nQ 3191 2616 2906 2266 \nQ 2828 2175 2409 1742 \nQ 1991 1309 1228 531 \nz\n\" transform=\"scale(0.015625)\"/>\n       </defs>\n       <use xlink:href=\"#DejaVuSans-32\"/>\n       <use xlink:href=\"#DejaVuSans-30\" x=\"63.623047\"/>\n      </g>\n     </g>\n    </g>\n   </g>\n   <g id=\"matplotlib.axis_2\">\n    <g id=\"ytick_1\">\n     <g id=\"line2d_4\">\n      <defs>\n       <path id=\"m324842f6c7\" d=\"M 0 0 \nL -3.5 0 \n\" style=\"stroke: #000000; stroke-width: 0.8\"/>\n      </defs>\n      <g>\n       <use xlink:href=\"#m324842f6c7\" x=\"26.925\" y=\"10.999219\" style=\"stroke: #000000; stroke-width: 0.8\"/>\n      </g>\n     </g>\n     <g id=\"text_4\">\n      <!-- 0 -->\n      <g transform=\"translate(13.5625 14.798437)scale(0.1 -0.1)\">\n       <use xlink:href=\"#DejaVuSans-30\"/>\n      </g>\n     </g>\n    </g>\n    <g id=\"ytick_2\">\n     <g id=\"line2d_5\">\n      <g>\n       <use xlink:href=\"#m324842f6c7\" x=\"26.925\" y=\"46.29792\" style=\"stroke: #000000; stroke-width: 0.8\"/>\n      </g>\n     </g>\n     <g id=\"text_5\">\n      <!-- 10 -->\n      <g transform=\"translate(7.2 50.097139)scale(0.1 -0.1)\">\n       <use xlink:href=\"#DejaVuSans-31\"/>\n       <use xlink:href=\"#DejaVuSans-30\" x=\"63.623047\"/>\n      </g>\n     </g>\n    </g>\n    <g id=\"ytick_3\">\n     <g id=\"line2d_6\">\n      <g>\n       <use xlink:href=\"#m324842f6c7\" x=\"26.925\" y=\"81.596621\" style=\"stroke: #000000; stroke-width: 0.8\"/>\n      </g>\n     </g>\n     <g id=\"text_6\">\n      <!-- 20 -->\n      <g transform=\"translate(7.2 85.39584)scale(0.1 -0.1)\">\n       <use xlink:href=\"#DejaVuSans-32\"/>\n       <use xlink:href=\"#DejaVuSans-30\" x=\"63.623047\"/>\n      </g>\n     </g>\n    </g>\n   </g>\n   <g id=\"patch_3\">\n    <path d=\"M 26.925 108.070647 \nL 26.925 9.234284 \n\" style=\"fill: none; stroke: #000000; stroke-width: 0.8; stroke-linejoin: miter; stroke-linecap: square\"/>\n   </g>\n   <g id=\"patch_4\">\n    <path d=\"M 125.761364 108.070647 \nL 125.761364 9.234284 \n\" style=\"fill: none; stroke: #000000; stroke-width: 0.8; stroke-linejoin: miter; stroke-linecap: square\"/>\n   </g>\n   <g id=\"patch_5\">\n    <path d=\"M 26.925 108.070647 \nL 125.761364 108.070647 \n\" style=\"fill: none; stroke: #000000; stroke-width: 0.8; stroke-linejoin: miter; stroke-linecap: square\"/>\n   </g>\n   <g id=\"patch_6\">\n    <path d=\"M 26.925 9.234284 \nL 125.761364 9.234284 \n\" style=\"fill: none; stroke: #000000; stroke-width: 0.8; stroke-linejoin: miter; stroke-linecap: square\"/>\n   </g>\n  </g>\n  <g id=\"axes_2\">\n   <g id=\"patch_7\">\n    <path d=\"M 209.543182 108.070647 \nL 308.379545 108.070647 \nL 308.379545 9.234284 \nL 209.543182 9.234284 \nz\n\" style=\"fill: #ffffff\"/>\n   </g>\n   <g clip-path=\"url(#p4242de5416)\">\n    <image xlink:href=\"data:image/png;base64,\niVBORw0KGgoAAAANSUhEUgAAAGMAAABjCAYAAACPO76VAAAEQUlEQVR4nO2cSyh+XRTG9+tSSBmQEgMT5BIGwkAhMlImJMmUlDFlQDEwMGAkchmZKAZGBgrJBMkt1yiX5J5kwIhvtv5n7T46H+d85/Hv+Y2e1TrvPqued+192ucSMsZ8GAJBWNAFkD/QDCBoBhA0AwiaAQTNAIJmAEEzgKAZQNAMICL8GDQuLk7FTU1Nojs6OlQuJSXF1ZiTk5MqnpmZEb2ysqJyDw8PrsZEg50BBM0AImR82LUdGRlRcUNDg+jt7W2VW1paEp2Tk6NyBQUFopOTk1UuFAqJvr29VbmWlhYVLy8vi356evqq9EBhZwBBM4CgGUD4smYcHR2puL+/X/TY2Ni3xiwvL1dxfX29aHuNsDk/PxddWlr6aS5o2BlA0AwgfJmmwsPDVfz+/i7648P96eLj40WnpaWp3O7uruiSkhKVGx4eVnFqaqroi4sLlauoqBB9cnLiujY/YGcAQTOAoBlA+LJmfJewMP3fmJqaEl1bW6tyvb29oru6ulQuMTFRxYODg6KdWzPGGLO+vi66sLDwvxXsMewMIGgGEFDTVEJCgorv7+8/Pfbg4EB0VlbWl+Omp6eLtncHjo+PRWdkZLiq0y/YGUDQDCBoBhC+PJDwXYqLi10fm5mZKbqmpkblZmdnVezcmT07O1M55zZLUVGRyq2urrquxwvYGUDQDCCgpqmtrS0VOy9fndOSTXt7u4rthw6qq6tFO3dwjdHTlnMnOAjYGUDQDCBoBhBQ2yE2SUlJok9PT1UuOjrak3PMz8+Lrqqq8mTM78LOAIJmAAF1aWtzfX0temBgQOU6Oztd/c4YY+7u7kRfXV2pXGNj409K9BR2BhA0AwiaAQT0pa0T+3Wzzc1N0fYdQns96evr868wD2FnAEEzgKAZQPyaNcPGud2el5enci8vLyp23glcXFz0ta6fwM4AgmYA8WunKedrZQsLC18eu7GxIdr5PoYxxjw/P3tb2A9gZwBBM4CgGUD82jUjIuLP7r/zbp0xxpSVlX36u+7ubhX39PR4WtdPYGcAQTOA+LXTlBP71eO5uTkVx8bGir65uVG5yspK0Xt7ez5U5x52BhA0AwiaAUTga0ZUVJRo+2tr9oNrbhkaGlJxa2vrp8dOT0+Lrqur+9b5vIKdAQTNACLwh9gmJiZE29OE8+sF9itd+/v7oi8vL1Xu7e3N9fmd727k5uaq3M7OjutxvICdAQTNAIJmABH4pe3r66to52VuEIyOjqq4ubn5fz0/OwMImgFE4NOU83I2Pz9f5Zwf8bK/RxsZGfmvxxljTExMjOvzPz4+irZ3fw8PD12P4wXsDCBoBhA0A4jA1wwvyM7OVrH9QeLx8XHR9k5wW1ub6LW1NR+qcw87AwiaAcRfMU39LbAzgKAZQNAMIGgGEDQDCJoBBM0AgmYAQTOAoBlA0AwgaAYQNAMImgEEzQCCZgBBM4D4B/MP9g+T2KiBAAAAAElFTkSuQmCC\" id=\"image9b4b310d2b\" transform=\"scale(1 -1)translate(0 -99)\" x=\"209.543182\" y=\"-9.070647\" width=\"99\" height=\"99\"/>\n   </g>\n   <g id=\"matplotlib.axis_3\">\n    <g id=\"xtick_4\">\n     <g id=\"line2d_7\">\n      <g>\n       <use xlink:href=\"#m15be108ef9\" x=\"211.308117\" y=\"108.070647\" style=\"stroke: #000000; stroke-width: 0.8\"/>\n      </g>\n     </g>\n     <g id=\"text_7\">\n      <!-- 0 -->\n      <g transform=\"translate(208.126867 122.669085)scale(0.1 -0.1)\">\n       <use xlink:href=\"#DejaVuSans-30\"/>\n      </g>\n     </g>\n    </g>\n    <g id=\"xtick_5\">\n     <g id=\"line2d_8\">\n      <g>\n       <use xlink:href=\"#m15be108ef9\" x=\"246.606818\" y=\"108.070647\" style=\"stroke: #000000; stroke-width: 0.8\"/>\n      </g>\n     </g>\n     <g id=\"text_8\">\n      <!-- 10 -->\n      <g transform=\"translate(240.244318 122.669085)scale(0.1 -0.1)\">\n       <use xlink:href=\"#DejaVuSans-31\"/>\n       <use xlink:href=\"#DejaVuSans-30\" x=\"63.623047\"/>\n      </g>\n     </g>\n    </g>\n    <g id=\"xtick_6\">\n     <g id=\"line2d_9\">\n      <g>\n       <use xlink:href=\"#m15be108ef9\" x=\"281.905519\" y=\"108.070647\" style=\"stroke: #000000; stroke-width: 0.8\"/>\n      </g>\n     </g>\n     <g id=\"text_9\">\n      <!-- 20 -->\n      <g transform=\"translate(275.543019 122.669085)scale(0.1 -0.1)\">\n       <use xlink:href=\"#DejaVuSans-32\"/>\n       <use xlink:href=\"#DejaVuSans-30\" x=\"63.623047\"/>\n      </g>\n     </g>\n    </g>\n   </g>\n   <g id=\"matplotlib.axis_4\">\n    <g id=\"ytick_4\">\n     <g id=\"line2d_10\">\n      <g>\n       <use xlink:href=\"#m324842f6c7\" x=\"209.543182\" y=\"10.999219\" style=\"stroke: #000000; stroke-width: 0.8\"/>\n      </g>\n     </g>\n     <g id=\"text_10\">\n      <!-- 0 -->\n      <g transform=\"translate(196.180682 14.798437)scale(0.1 -0.1)\">\n       <use xlink:href=\"#DejaVuSans-30\"/>\n      </g>\n     </g>\n    </g>\n    <g id=\"ytick_5\">\n     <g id=\"line2d_11\">\n      <g>\n       <use xlink:href=\"#m324842f6c7\" x=\"209.543182\" y=\"46.29792\" style=\"stroke: #000000; stroke-width: 0.8\"/>\n      </g>\n     </g>\n     <g id=\"text_11\">\n      <!-- 10 -->\n      <g transform=\"translate(189.818182 50.097139)scale(0.1 -0.1)\">\n       <use xlink:href=\"#DejaVuSans-31\"/>\n       <use xlink:href=\"#DejaVuSans-30\" x=\"63.623047\"/>\n      </g>\n     </g>\n    </g>\n    <g id=\"ytick_6\">\n     <g id=\"line2d_12\">\n      <g>\n       <use xlink:href=\"#m324842f6c7\" x=\"209.543182\" y=\"81.596621\" style=\"stroke: #000000; stroke-width: 0.8\"/>\n      </g>\n     </g>\n     <g id=\"text_12\">\n      <!-- 20 -->\n      <g transform=\"translate(189.818182 85.39584)scale(0.1 -0.1)\">\n       <use xlink:href=\"#DejaVuSans-32\"/>\n       <use xlink:href=\"#DejaVuSans-30\" x=\"63.623047\"/>\n      </g>\n     </g>\n    </g>\n   </g>\n   <g id=\"patch_8\">\n    <path d=\"M 209.543182 108.070647 \nL 209.543182 9.234284 \n\" style=\"fill: none; stroke: #000000; stroke-width: 0.8; stroke-linejoin: miter; stroke-linecap: square\"/>\n   </g>\n   <g id=\"patch_9\">\n    <path d=\"M 308.379545 108.070647 \nL 308.379545 9.234284 \n\" style=\"fill: none; stroke: #000000; stroke-width: 0.8; stroke-linejoin: miter; stroke-linecap: square\"/>\n   </g>\n   <g id=\"patch_10\">\n    <path d=\"M 209.543182 108.070647 \nL 308.379545 108.070647 \n\" style=\"fill: none; stroke: #000000; stroke-width: 0.8; stroke-linejoin: miter; stroke-linecap: square\"/>\n   </g>\n   <g id=\"patch_11\">\n    <path d=\"M 209.543182 9.234284 \nL 308.379545 9.234284 \n\" style=\"fill: none; stroke: #000000; stroke-width: 0.8; stroke-linejoin: miter; stroke-linecap: square\"/>\n   </g>\n  </g>\n  <g id=\"axes_3\">\n   <g id=\"patch_12\">\n    <path d=\"M 26.925 226.674284 \nL 125.761364 226.674284 \nL 125.761364 127.83792 \nL 26.925 127.83792 \nz\n\" style=\"fill: #ffffff\"/>\n   </g>\n   <g clip-path=\"url(#p699426e396)\">\n    <image xlink:href=\"data:image/png;base64,\niVBORw0KGgoAAAANSUhEUgAAAGMAAABjCAYAAACPO76VAAACWklEQVR4nO3bsa4BQRiG4VlRadGqUUpUuAjR6d2Ei1BLtHr3oBYtSlpqJaebszPJyjmsnW8271PNZBKZ5PPPPzYrMcY8DSRUQm8AvwhDCGEIIQwhhCGEMIQQhhDCEEIYQghDCGEIIQwhhCGkGnoD72q1Wna8WCyctdFo5Mz7/b4dXy6X727sA1SGEMIQQhhCou0Z8/ncjsfjsbNWqbjfsUajYcf0DPwJYQiJ9phKHz3Pp/tOxW63c+b7/b6QPX2KyhBCGEIIQ0i0PWMymdjx4/Fw1pIkKXo7uaAyhBCGkGiOqeFw6MzTR5N/tfXnsaAyhBCGEMIQEk3P6Ha7zjzW6+srVIYQwhASzTG13W6defr6GutV1kdlCCEMIYQhJJqecTwenTlXW3wVYQgJfkzVarXMtfv9nrl2vV7tuF6v57qnUKgMIYQhhDCEBO8ZzWbTjv3HGq/ei91sNnY8m80yP9MY94W32+321j6LQGUIIQwhhCEkeM84n88ff4bfa/zfHfQM/BthCAl+TL2r0+nYsf8E13/C689VURlCCEMIYQiJtmccDgc7HgwGAXeSHypDCGEIifaYSivLywlUhhDCEEIYQkrRM3jxGbkjDCGlOKa42iJ3hCGEMISUomdwtUXuCENItMfU6XSyY/9q2263M+fKLydQGUIIQwhhCIm2Z6zXazueTqfOWq/Xc+av/jeohMoQQhhCoj2m0n89Xq1WztpyuSx6O7mgMoQQhhDCEJIYY8rxyLMEqAwhhCGEMIQQhhDCEEIYQghDCGEIIQwhhCGEMIQQhhDCEPIDWwJpJ+BETmoAAAAASUVORK5CYII=\" id=\"image1a338f591c\" transform=\"scale(1 -1)translate(0 -99)\" x=\"26.925\" y=\"-127.674284\" width=\"99\" height=\"99\"/>\n   </g>\n   <g id=\"matplotlib.axis_5\">\n    <g id=\"xtick_7\">\n     <g id=\"line2d_13\">\n      <g>\n       <use xlink:href=\"#m15be108ef9\" x=\"28.689935\" y=\"226.674284\" style=\"stroke: #000000; stroke-width: 0.8\"/>\n      </g>\n     </g>\n     <g id=\"text_13\">\n      <!-- 0 -->\n      <g transform=\"translate(25.508685 241.272721)scale(0.1 -0.1)\">\n       <use xlink:href=\"#DejaVuSans-30\"/>\n      </g>\n     </g>\n    </g>\n    <g id=\"xtick_8\">\n     <g id=\"line2d_14\">\n      <g>\n       <use xlink:href=\"#m15be108ef9\" x=\"63.988636\" y=\"226.674284\" style=\"stroke: #000000; stroke-width: 0.8\"/>\n      </g>\n     </g>\n     <g id=\"text_14\">\n      <!-- 10 -->\n      <g transform=\"translate(57.626136 241.272721)scale(0.1 -0.1)\">\n       <use xlink:href=\"#DejaVuSans-31\"/>\n       <use xlink:href=\"#DejaVuSans-30\" x=\"63.623047\"/>\n      </g>\n     </g>\n    </g>\n    <g id=\"xtick_9\">\n     <g id=\"line2d_15\">\n      <g>\n       <use xlink:href=\"#m15be108ef9\" x=\"99.287338\" y=\"226.674284\" style=\"stroke: #000000; stroke-width: 0.8\"/>\n      </g>\n     </g>\n     <g id=\"text_15\">\n      <!-- 20 -->\n      <g transform=\"translate(92.924838 241.272721)scale(0.1 -0.1)\">\n       <use xlink:href=\"#DejaVuSans-32\"/>\n       <use xlink:href=\"#DejaVuSans-30\" x=\"63.623047\"/>\n      </g>\n     </g>\n    </g>\n   </g>\n   <g id=\"matplotlib.axis_6\">\n    <g id=\"ytick_7\">\n     <g id=\"line2d_16\">\n      <g>\n       <use xlink:href=\"#m324842f6c7\" x=\"26.925\" y=\"129.602855\" style=\"stroke: #000000; stroke-width: 0.8\"/>\n      </g>\n     </g>\n     <g id=\"text_16\">\n      <!-- 0 -->\n      <g transform=\"translate(13.5625 133.402074)scale(0.1 -0.1)\">\n       <use xlink:href=\"#DejaVuSans-30\"/>\n      </g>\n     </g>\n    </g>\n    <g id=\"ytick_8\">\n     <g id=\"line2d_17\">\n      <g>\n       <use xlink:href=\"#m324842f6c7\" x=\"26.925\" y=\"164.901556\" style=\"stroke: #000000; stroke-width: 0.8\"/>\n      </g>\n     </g>\n     <g id=\"text_17\">\n      <!-- 10 -->\n      <g transform=\"translate(7.2 168.700775)scale(0.1 -0.1)\">\n       <use xlink:href=\"#DejaVuSans-31\"/>\n       <use xlink:href=\"#DejaVuSans-30\" x=\"63.623047\"/>\n      </g>\n     </g>\n    </g>\n    <g id=\"ytick_9\">\n     <g id=\"line2d_18\">\n      <g>\n       <use xlink:href=\"#m324842f6c7\" x=\"26.925\" y=\"200.200258\" style=\"stroke: #000000; stroke-width: 0.8\"/>\n      </g>\n     </g>\n     <g id=\"text_18\">\n      <!-- 20 -->\n      <g transform=\"translate(7.2 203.999476)scale(0.1 -0.1)\">\n       <use xlink:href=\"#DejaVuSans-32\"/>\n       <use xlink:href=\"#DejaVuSans-30\" x=\"63.623047\"/>\n      </g>\n     </g>\n    </g>\n   </g>\n   <g id=\"patch_13\">\n    <path d=\"M 26.925 226.674284 \nL 26.925 127.83792 \n\" style=\"fill: none; stroke: #000000; stroke-width: 0.8; stroke-linejoin: miter; stroke-linecap: square\"/>\n   </g>\n   <g id=\"patch_14\">\n    <path d=\"M 125.761364 226.674284 \nL 125.761364 127.83792 \n\" style=\"fill: none; stroke: #000000; stroke-width: 0.8; stroke-linejoin: miter; stroke-linecap: square\"/>\n   </g>\n   <g id=\"patch_15\">\n    <path d=\"M 26.925 226.674284 \nL 125.761364 226.674284 \n\" style=\"fill: none; stroke: #000000; stroke-width: 0.8; stroke-linejoin: miter; stroke-linecap: square\"/>\n   </g>\n   <g id=\"patch_16\">\n    <path d=\"M 26.925 127.83792 \nL 125.761364 127.83792 \n\" style=\"fill: none; stroke: #000000; stroke-width: 0.8; stroke-linejoin: miter; stroke-linecap: square\"/>\n   </g>\n  </g>\n  <g id=\"axes_4\">\n   <g id=\"patch_17\">\n    <path d=\"M 209.543182 226.674284 \nL 308.379545 226.674284 \nL 308.379545 127.83792 \nL 209.543182 127.83792 \nz\n\" style=\"fill: #ffffff\"/>\n   </g>\n   <g clip-path=\"url(#p8596ab33a5)\">\n    <image xlink:href=\"data:image/png;base64,\niVBORw0KGgoAAAANSUhEUgAAAGMAAABjCAYAAACPO76VAAAD3klEQVR4nO2cPyi9URjHz/WvSMliIX9KkpKFSKFsBiWDDJTBKIMJEwYlSVarbJjkz0JJmRj8VyxmLP6GYnuc5/R7/a7rPa/vvX0/0/fpOfeeR1/POee+971vzBjzYQgEaX9dAPmCZgBBM4DI+OsCviM7O1v0zMyMyvX39wfmRkZG/BbmCXYGEDQDiJgBPtoWFhaKvr6+jvt16enpPsrxDjsDCJoBBM0AAnrPSEv7+l9ZWVlRufb29sDXcc8gv4ZmAAG9TNm0tLSoeGtrK3DsxMSEisfHx73UFDbsDCBoBhA0Awjoq7Y2lZWVcY/t7u5W8eTkpOi3t7fQagobdgYQNAOIpDnaZmToFXVgYEC0++VSLBZTcUFBgeibmxsP1YUDOwMImgEEzQAiafYMF/tmhYeHB5Vz94zFxUXRvb29fgv7BewMIGgGEEm7TNlfIG1ubqpca2uriu/u7kSXlZWp3P39vYfqEoOdAQTNAIJmAJG0e4ZNfX29ivf29lT88fH1J3Z1danc8vKyv8J+CDsDCJoBREosUy72suTGZ2dnKldbWyv6+fnZb2H/gZ0BBM0AgmYAkZJ7xuDgoIpnZ2cDx9pH3b8+5rIzgKAZQKTkMlVSUqLii4sL0ZmZmSp3enoq2v0k//T05KG6YNgZQNAMIGgGEJHsGeXl5aKXlpZUbnh4WPTGxoaX+e0ja0dHR+C4iooKFV9dXXmpJwh2BhA0AwiaAUQke8b09LTooaEhlTs+Phbd0NCgcmFd0i4tLRV9dHSkcjk5OaIXFhZUrq+vL5T544WdAQTNACKSZaqtrU306upq4LjR0VEVT01NhV6Le1y1l7DX11eVq66uFn15eRl6LS7sDCBoBhA0A4hIfnr8+PgY1zj7IZDG6BuWDw4OVG5/fz/u+XNzc0V3dnaq3M7Ozj/HGWNMT0+P6LGxsbjnSxR2BhA0A4hIjrbNzc2it7e3E3qP8/NzFZ+cnIguLi5WOfdnZPn5+aLtpc8YY2pqakRnZWWp3MvLi+impiaVc5fNMGBnAEEzgKAZQESyZ+Tl5YleW1tTOfdKbRi4e4Z7I3QiHB4eqriurk70+/v7r9/fGHYGFDQDiMhvYmtsbFTx3Nyc6KqqqsDXuVdU3efc2ny3TLlHUvtq7Pz8vMoVFRUFzmE/wHJ3dzdw3E9gZwBBM4CgGUCk5I3PieIes9fX10W7x1f7AZa3t7ehzM/OAIJmAMFlCgh2BhA0AwiaAQTNAIJmAEEzgKAZQNAMIGgGEDQDCJoBBM0AgmYAQTOAoBlA0AwgaAYQNAMImgEEzQCCZgBBM4CgGUDQDCA+Ab6c3Gh2glOzAAAAAElFTkSuQmCC\" id=\"image689bf10a19\" transform=\"scale(1 -1)translate(0 -99)\" x=\"209.543182\" y=\"-127.674284\" width=\"99\" height=\"99\"/>\n   </g>\n   <g id=\"matplotlib.axis_7\">\n    <g id=\"xtick_10\">\n     <g id=\"line2d_19\">\n      <g>\n       <use xlink:href=\"#m15be108ef9\" x=\"211.308117\" y=\"226.674284\" style=\"stroke: #000000; stroke-width: 0.8\"/>\n      </g>\n     </g>\n     <g id=\"text_19\">\n      <!-- 0 -->\n      <g transform=\"translate(208.126867 241.272721)scale(0.1 -0.1)\">\n       <use xlink:href=\"#DejaVuSans-30\"/>\n      </g>\n     </g>\n    </g>\n    <g id=\"xtick_11\">\n     <g id=\"line2d_20\">\n      <g>\n       <use xlink:href=\"#m15be108ef9\" x=\"246.606818\" y=\"226.674284\" style=\"stroke: #000000; stroke-width: 0.8\"/>\n      </g>\n     </g>\n     <g id=\"text_20\">\n      <!-- 10 -->\n      <g transform=\"translate(240.244318 241.272721)scale(0.1 -0.1)\">\n       <use xlink:href=\"#DejaVuSans-31\"/>\n       <use xlink:href=\"#DejaVuSans-30\" x=\"63.623047\"/>\n      </g>\n     </g>\n    </g>\n    <g id=\"xtick_12\">\n     <g id=\"line2d_21\">\n      <g>\n       <use xlink:href=\"#m15be108ef9\" x=\"281.905519\" y=\"226.674284\" style=\"stroke: #000000; stroke-width: 0.8\"/>\n      </g>\n     </g>\n     <g id=\"text_21\">\n      <!-- 20 -->\n      <g transform=\"translate(275.543019 241.272721)scale(0.1 -0.1)\">\n       <use xlink:href=\"#DejaVuSans-32\"/>\n       <use xlink:href=\"#DejaVuSans-30\" x=\"63.623047\"/>\n      </g>\n     </g>\n    </g>\n   </g>\n   <g id=\"matplotlib.axis_8\">\n    <g id=\"ytick_10\">\n     <g id=\"line2d_22\">\n      <g>\n       <use xlink:href=\"#m324842f6c7\" x=\"209.543182\" y=\"129.602855\" style=\"stroke: #000000; stroke-width: 0.8\"/>\n      </g>\n     </g>\n     <g id=\"text_22\">\n      <!-- 0 -->\n      <g transform=\"translate(196.180682 133.402074)scale(0.1 -0.1)\">\n       <use xlink:href=\"#DejaVuSans-30\"/>\n      </g>\n     </g>\n    </g>\n    <g id=\"ytick_11\">\n     <g id=\"line2d_23\">\n      <g>\n       <use xlink:href=\"#m324842f6c7\" x=\"209.543182\" y=\"164.901556\" style=\"stroke: #000000; stroke-width: 0.8\"/>\n      </g>\n     </g>\n     <g id=\"text_23\">\n      <!-- 10 -->\n      <g transform=\"translate(189.818182 168.700775)scale(0.1 -0.1)\">\n       <use xlink:href=\"#DejaVuSans-31\"/>\n       <use xlink:href=\"#DejaVuSans-30\" x=\"63.623047\"/>\n      </g>\n     </g>\n    </g>\n    <g id=\"ytick_12\">\n     <g id=\"line2d_24\">\n      <g>\n       <use xlink:href=\"#m324842f6c7\" x=\"209.543182\" y=\"200.200258\" style=\"stroke: #000000; stroke-width: 0.8\"/>\n      </g>\n     </g>\n     <g id=\"text_24\">\n      <!-- 20 -->\n      <g transform=\"translate(189.818182 203.999476)scale(0.1 -0.1)\">\n       <use xlink:href=\"#DejaVuSans-32\"/>\n       <use xlink:href=\"#DejaVuSans-30\" x=\"63.623047\"/>\n      </g>\n     </g>\n    </g>\n   </g>\n   <g id=\"patch_18\">\n    <path d=\"M 209.543182 226.674284 \nL 209.543182 127.83792 \n\" style=\"fill: none; stroke: #000000; stroke-width: 0.8; stroke-linejoin: miter; stroke-linecap: square\"/>\n   </g>\n   <g id=\"patch_19\">\n    <path d=\"M 308.379545 226.674284 \nL 308.379545 127.83792 \n\" style=\"fill: none; stroke: #000000; stroke-width: 0.8; stroke-linejoin: miter; stroke-linecap: square\"/>\n   </g>\n   <g id=\"patch_20\">\n    <path d=\"M 209.543182 226.674284 \nL 308.379545 226.674284 \n\" style=\"fill: none; stroke: #000000; stroke-width: 0.8; stroke-linejoin: miter; stroke-linecap: square\"/>\n   </g>\n   <g id=\"patch_21\">\n    <path d=\"M 209.543182 127.83792 \nL 308.379545 127.83792 \n\" style=\"fill: none; stroke: #000000; stroke-width: 0.8; stroke-linejoin: miter; stroke-linecap: square\"/>\n   </g>\n  </g>\n </g>\n <defs>\n  <clipPath id=\"p1cf76cb5d7\">\n   <rect x=\"26.925\" y=\"9.234284\" width=\"98.836364\" height=\"98.836364\"/>\n  </clipPath>\n  <clipPath id=\"p4242de5416\">\n   <rect x=\"209.543182\" y=\"9.234284\" width=\"98.836364\" height=\"98.836364\"/>\n  </clipPath>\n  <clipPath id=\"p699426e396\">\n   <rect x=\"26.925\" y=\"127.83792\" width=\"98.836364\" height=\"98.836364\"/>\n  </clipPath>\n  <clipPath id=\"p8596ab33a5\">\n   <rect x=\"209.543182\" y=\"127.83792\" width=\"98.836364\" height=\"98.836364\"/>\n  </clipPath>\n </defs>\n</svg>\n",
      "text/plain": [
       "<Figure size 432x288 with 4 Axes>"
      ]
     },
     "metadata": {
      "needs_background": "light"
     },
     "output_type": "display_data"
    }
   ],
   "source": [
    "for example in tfds.as_numpy(ds):\n",
    "    print(f'=== evaluating image')\n",
    "    image, label = example[\"image\"], example[\"label\"]\n",
    "\n",
    "    print(f'=== this image is an {label}')\n",
    "    \n",
    "    label_vec = np.zeros((10, BATCH_SIZE))\n",
    "    for u, l in enumerate(label):\n",
    "        label_vec[l, u] = 1\n",
    "    print(label_vec)\n",
    "    \n",
    "    f, ax = plt.subplots(2,2)\n",
    "    ax[0,0].imshow(image[0], cmap='gray')\n",
    "    ax[0,1].imshow(image[1], cmap='gray')\n",
    "    ax[1,0].imshow(image[2], cmap='gray')\n",
    "    ax[1,1].imshow(image[3], cmap='gray')\n",
    "    \n",
    "    # preprocessing\n",
    "    image_nn = np.resize(image, (BATCH_SIZE, 28*28))\n",
    "    image_nn = np.moveaxis(image_nn, [0,1], [1,0])\n",
    "\n",
    "    pred = nn.predict(image_nn)\n",
    "    print(pred)\n",
    "    \n",
    "    plt.show()\n",
    "    \n",
    "    break"
   ]
  },
  {
   "cell_type": "code",
   "execution_count": null,
   "metadata": {},
   "outputs": [],
   "source": []
  }
 ],
 "metadata": {
  "kernelspec": {
   "display_name": "Python 3.10.4 ('tf')",
   "language": "python",
   "name": "python3"
  },
  "language_info": {
   "codemirror_mode": {
    "name": "ipython",
    "version": 3
   },
   "file_extension": ".py",
   "mimetype": "text/x-python",
   "name": "python",
   "nbconvert_exporter": "python",
   "pygments_lexer": "ipython3",
   "version": "3.10.4"
  },
  "orig_nbformat": 4,
  "vscode": {
   "interpreter": {
    "hash": "3d72c6a62894ebc3356fcca1104a021256b53c56f10894aa8cbe67974b0579cd"
   }
  }
 },
 "nbformat": 4,
 "nbformat_minor": 2
}
