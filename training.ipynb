{
 "cells": [
  {
   "cell_type": "code",
   "execution_count": 8,
   "metadata": {},
   "outputs": [],
   "source": [
    "import numpy as np\n",
    "from matplotlib import pyplot as plt\n",
    "\n",
    "from layers import Function, Layer, NeuralNetwork\n",
    "\n",
    "import tensorflow_datasets as tfds\n",
    "import tensorflow as tf"
   ]
  },
  {
   "cell_type": "markdown",
   "metadata": {},
   "source": [
    "## Define functions"
   ]
  },
  {
   "cell_type": "code",
   "execution_count": 23,
   "metadata": {},
   "outputs": [],
   "source": [
    "# sigmoid\n",
    "sigma = lambda x: 1/(1+np.exp(-x))\n",
    "sigma_d =  lambda x: np.exp(-x)/(1+np.exp(-x))**2\n",
    "sigmoid = Function(sigma, sigma_d)\n",
    "\n",
    "# relu\n",
    "rel = lambda x: np.maximum(0,x)\n",
    "rel_d = lambda x: x > 0\n",
    "relu = Function(rel, rel_d)\n",
    "\n",
    "# cost\n",
    "def cost(Y, Yhat):\n",
    "    loss = []\n",
    "    for y, yhat in zip(Y.T, Yhat.T):\n",
    "        loss.append(-(y*np.log(yhat) + (1-y)*np.log(1-yhat)))\n",
    "    return np.mean(loss)\n",
    "\n",
    "def cost_d(Y, Yhat):\n",
    "    loss = []\n",
    "    for y, yhat in zip(Y.T, Yhat.T):\n",
    "        loss.append((yhat - y)/(yhat - yhat**2))\n",
    "    loss = np.array(loss)\n",
    "    return loss\n",
    "\n",
    "cost_function = Function(cost, cost_d)"
   ]
  },
  {
   "cell_type": "code",
   "execution_count": 10,
   "metadata": {},
   "outputs": [],
   "source": [
    "# check if actually corresponds"
   ]
  },
  {
   "cell_type": "markdown",
   "metadata": {},
   "source": [
    "## Build dataset"
   ]
  },
  {
   "cell_type": "code",
   "execution_count": 11,
   "metadata": {},
   "outputs": [],
   "source": [
    "BATCH_SIZE = 4\n",
    "\n",
    "ds = tfds.load('mnist', split='train', shuffle_files=True)\n",
    "\n",
    "# Build your input pipeline\n",
    "ds = ds.shuffle(1024).batch(BATCH_SIZE).prefetch(tf.data.AUTOTUNE)"
   ]
  },
  {
   "cell_type": "markdown",
   "metadata": {},
   "source": [
    "## Define NN"
   ]
  },
  {
   "cell_type": "code",
   "execution_count": 24,
   "metadata": {},
   "outputs": [],
   "source": [
    "nn = NeuralNetwork(.001, cost_function)\n",
    "    \n",
    "nn.add_layer(Layer((28*28, BATCH_SIZE), 28*28, relu))\n",
    "nn.add_layer(Layer((28*28, BATCH_SIZE), 10, relu))"
   ]
  },
  {
   "cell_type": "markdown",
   "metadata": {},
   "source": [
    "## Train"
   ]
  },
  {
   "cell_type": "code",
   "execution_count": 25,
   "metadata": {},
   "outputs": [],
   "source": [
    "def preprocess(example):\n",
    "    image, label = example[\"image\"], example[\"label\"]\n",
    "    \n",
    "    # preprocessing\n",
    "    image = np.resize(image, (BATCH_SIZE, 28*28))\n",
    "    image = np.moveaxis(image, [0,1], [1,0])\n",
    "    \n",
    "    label_vec = np.zeros((10, BATCH_SIZE))\n",
    "    for u, l in enumerate(label):\n",
    "        label_vec[l, u] = 1\n",
    "\n",
    "    # correct datatypes\n",
    "    image = image.astype(np.float64)\n",
    "    \n",
    "    image /= 255.0\n",
    "    \n",
    "    return image, label_vec"
   ]
  },
  {
   "cell_type": "code",
   "execution_count": 26,
   "metadata": {},
   "outputs": [
    {
     "name": "stdout",
     "output_type": "stream",
     "text": [
      "(784, 4) (10, 4)\n",
      "[[0. 0. 0. 0.]\n",
      " [0. 0. 0. 0.]\n",
      " [0. 0. 0. 0.]\n",
      " [0. 0. 0. 0.]\n",
      " [0. 0. 0. 0.]\n",
      " [0. 0. 1. 0.]\n",
      " [0. 0. 0. 0.]\n",
      " [0. 0. 0. 0.]\n",
      " [1. 0. 0. 1.]\n",
      " [0. 1. 0. 0.]]\n"
     ]
    },
    {
     "data": {
      "text/plain": [
       "<matplotlib.image.AxesImage at 0x214fa4ba620>"
      ]
     },
     "execution_count": 26,
     "metadata": {},
     "output_type": "execute_result"
    },
    {
     "data": {
      "image/png": "[encoded data removed]",
      "image/svg+xml": "<?xml version=\"1.0\" encoding=\"utf-8\" standalone=\"no\"?>\n<!DOCTYPE svg PUBLIC \"-//W3C//DTD SVG 1.1//EN\"\n  \"http://www.w3.org/Graphics/SVG/1.1/DTD/svg11.dtd\">\n<svg xmlns:xlink=\"http://www.w3.org/1999/xlink\" width=\"315.579545pt\" height=\"250.552409pt\" viewBox=\"0 0 315.579545 250.552409\" xmlns=\"http://www.w3.org/2000/svg\" version=\"1.1\">\n <metadata>\n  <rdf:RDF xmlns:dc=\"http://purl.org/dc/elements/1.1/\" xmlns:cc=\"http://creativecommons.org/ns#\" xmlns:rdf=\"http://www.w3.org/1999/02/22-rdf-syntax-ns#\">\n   <cc:Work>\n    <dc:type rdf:resource=\"http://purl.org/dc/dcmitype/StillImage\"/>\n    <dc:date>2022-08-23T20:13:27.362478</dc:date>\n    <dc:format>image/svg+xml</dc:format>\n    <dc:creator>\n     <cc:Agent>\n      <dc:title>Matplotlib v3.5.3, https://matplotlib.org/</dc:title>\n     </cc:Agent>\n    </dc:creator>\n   </cc:Work>\n  </rdf:RDF>\n </metadata>\n <defs>\n  <style type=\"text/css\">*{stroke-linejoin: round; stroke-linecap: butt}</style>\n </defs>\n <g id=\"figure_1\">\n  <g id=\"patch_1\">\n   <path d=\"M 0 250.552409 \nL 315.579545 250.552409 \nL 315.579545 0 \nL 0 0 \nL 0 250.552409 \nz\n\" style=\"fill: none\"/>\n  </g>\n  <g id=\"axes_1\">\n   <g id=\"patch_2\">\n    <path d=\"M 26.925 108.070647 \nL 125.761364 108.070647 \nL 125.761364 9.234284 \nL 26.925 9.234284 \nz\n\" style=\"fill: #ffffff\"/>\n   </g>\n   <g clip-path=\"url(#pf51100067f)\">\n    <image xlink:href=\"data:image/png;base64,\niVBORw0KGgoAAAANSUhEUgAAAGMAAABjCAYAAACPO76VAAAEfElEQVR4nO2cyyt1XxjH19GbAaXcIiWJicSMDE2kJAYGJDMkuV8GxD/AUEbKpZRckohSJiIlE4UBAyRJUS5FbuGdrXc969c+v+2855z9Pb3fz+j79Jy9165vz1qrdZ69fUqpb0UgiPL6AcgfaAYQNAMImgEEzQCCZgBBM4CgGUDQDCBoBhC/QnHT6OhoEVdXV2s9NTXl+j6np6daz83Nidzh4aHWCwsLIvf9HZknPKwMIGgGED4VglPb8vJyES8vLwd7CMH4+LiIV1ZWRLy6uhrS8YMFKwMImgEEzQAiJFvbn3B/f691fHx8QPeor68XcUFBgeMYOzs7AY0RDlgZQNAMIMI+Tb29vYm4ublZa5/P53hdV1eXiAsLCx1/m5+fL+LKykqtOU0RV9AMIGgGEGFfMz4/P0WcmZmp9fDwsON129vbIi4tLdV6ZGRE5GJjY0Wck5Pz4+f0AlYGEDQDiLBPUzExMSJOSUlxdd319bWIn5+fXY95dnbm+rdewsoAgmYAQTOACMmacXx87Pq3xcXFWmdlZYmc2ZCQnp4ucmaTg72Vtcefn593/TxewsoAgmYAEZKGhKgo6fHk5KTWdXV1Imee4l5eXopcbW2t1ubJq1JKDQwMOI5vXqfUf3uuUGFlAEEzgKAZQIRka/v19SXivr4+re1/4cw4Oztb5NbX17WOi4tzHO/g4EDENzc37h8WCFYGEDQDiJBsbW3Mra49Te3v72sdaCu/vZWdnZ0N6D5ew8oAgmYAQTOACMua4Y+Wlhat7caCQKmqqhLxxsaG1u/v7yL38fERlDGDASsDCJoBBM0AwvP3M+x/6YLB4uKiiM2G6rW1NZFrbGzU+uHhQeReX1+D/mz+YGUAQTOACPvWNiEhQcSbm5ta5+bmOl739PQk4peXF62Tk5P9jmlOU/6OXDo6OkS8tLSk9dXVld8xggErAwiaAQTNAAJ6zTCb2JqamkTu/Pxca/O9QKWUKikpEXFaWprW/7e+mJjH+w0NDSJ3cnKitbl+/Q2sDCBoBhARM03ZzW97e3uuxzSnuMHBQZEzp7CfYH6VwW6SC3TaYmUAQTOAoBlAeL5mmF9Rq6iocLxuaGhIxDMzM1ofHR35HdN8j9DckioV+JphMjExIeLW1lat7c9z+IOVAQTNACJiGxLu7u607u3tFTn7tWRzO5uXl+d4T/M9EqWUur291dr+wFhiYqLjfcyt9O7ursj5m1JZGUDQDCBoBhCerxkZGRlaj46OilxZWVlQxnD7T599+js2NqZ1f3+/yHV3d2ttb9dN7O263RBhwsoAgmYA4Xnf1MXFhdadnZ0iZ34Np6amRuSSkpKCMn5PT4/W09PTjr+zv7JQVFSktf3td/NUYWtry/WzsDKAoBlA0AwgPN/auqWtrU3EqampWre3t4uc3b9rHo/Yp7RmP+1P3tUwjzweHx9Fzmx+46lthEIzgIiYaepfgJUBBM0AgmYAQTOAoBlA0AwgaAYQNAMImgEEzQCCZgBBM4CgGUDQDCBoBhA0AwiaAcRvXQEvLT3HaPkAAAAASUVORK5CYII=\" id=\"image75460ff10f\" transform=\"scale(1 -1)translate(0 -99)\" x=\"26.925\" y=\"-9.070647\" width=\"99\" height=\"99\"/>\n   </g>\n   <g id=\"matplotlib.axis_1\">\n    <g id=\"xtick_1\">\n     <g id=\"line2d_1\">\n      <defs>\n       <path id=\"m13fbb6db13\" d=\"M 0 0 \nL 0 3.5 \n\" style=\"stroke: #000000; stroke-width: 0.8\"/>\n      </defs>\n      <g>\n       <use xlink:href=\"#m13fbb6db13\" x=\"28.689935\" y=\"108.070647\" style=\"stroke: #000000; stroke-width: 0.8\"/>\n      </g>\n     </g>\n     <g id=\"text_1\">\n      <!-- 0 -->\n      <g transform=\"translate(25.508685 122.669085)scale(0.1 -0.1)\">\n       <defs>\n        <path id=\"DejaVuSans-30\" d=\"M 2034 4250 \nQ 1547 4250 1301 3770 \nQ 1056 3291 1056 2328 \nQ 1056 1369 1301 889 \nQ 1547 409 2034 409 \nQ 2525 409 2770 889 \nQ 3016 1369 3016 2328 \nQ 3016 3291 2770 3770 \nQ 2525 4250 2034 4250 \nz\nM 2034 4750 \nQ 2819 4750 3233 4129 \nQ 3647 3509 3647 2328 \nQ 3647 1150 3233 529 \nQ 2819 -91 2034 -91 \nQ 1250 -91 836 529 \nQ 422 1150 422 2328 \nQ 422 3509 836 4129 \nQ 1250 4750 2034 4750 \nz\n\" transform=\"scale(0.015625)\"/>\n       </defs>\n       <use xlink:href=\"#DejaVuSans-30\"/>\n      </g>\n     </g>\n    </g>\n    <g id=\"xtick_2\">\n     <g id=\"line2d_2\">\n      <g>\n       <use xlink:href=\"#m13fbb6db13\" x=\"63.988636\" y=\"108.070647\" style=\"stroke: #000000; stroke-width: 0.8\"/>\n      </g>\n     </g>\n     <g id=\"text_2\">\n      <!-- 10 -->\n      <g transform=\"translate(57.626136 122.669085)scale(0.1 -0.1)\">\n       <defs>\n        <path id=\"DejaVuSans-31\" d=\"M 794 531 \nL 1825 531 \nL 1825 4091 \nL 703 3866 \nL 703 4441 \nL 1819 4666 \nL 2450 4666 \nL 2450 531 \nL 3481 531 \nL 3481 0 \nL 794 0 \nL 794 531 \nz\n\" transform=\"scale(0.015625)\"/>\n       </defs>\n       <use xlink:href=\"#DejaVuSans-31\"/>\n       <use xlink:href=\"#DejaVuSans-30\" x=\"63.623047\"/>\n      </g>\n     </g>\n    </g>\n    <g id=\"xtick_3\">\n     <g id=\"line2d_3\">\n      <g>\n       <use xlink:href=\"#m13fbb6db13\" x=\"99.287338\" y=\"108.070647\" style=\"stroke: #000000; stroke-width: 0.8\"/>\n      </g>\n     </g>\n     <g id=\"text_3\">\n      <!-- 20 -->\n      <g transform=\"translate(92.924838 122.669085)scale(0.1 -0.1)\">\n       <defs>\n        <path id=\"DejaVuSans-32\" d=\"M 1228 531 \nL 3431 531 \nL 3431 0 \nL 469 0 \nL 469 531 \nQ 828 903 1448 1529 \nQ 2069 2156 2228 2338 \nQ 2531 2678 2651 2914 \nQ 2772 3150 2772 3378 \nQ 2772 3750 2511 3984 \nQ 2250 4219 1831 4219 \nQ 1534 4219 1204 4116 \nQ 875 4013 500 3803 \nL 500 4441 \nQ 881 4594 1212 4672 \nQ 1544 4750 1819 4750 \nQ 2544 4750 2975 4387 \nQ 3406 4025 3406 3419 \nQ 3406 3131 3298 2873 \nQ 3191 2616 2906 2266 \nQ 2828 2175 2409 1742 \nQ 1991 1309 1228 531 \nz\n\" transform=\"scale(0.015625)\"/>\n       </defs>\n       <use xlink:href=\"#DejaVuSans-32\"/>\n       <use xlink:href=\"#DejaVuSans-30\" x=\"63.623047\"/>\n      </g>\n     </g>\n    </g>\n   </g>\n   <g id=\"matplotlib.axis_2\">\n    <g id=\"ytick_1\">\n     <g id=\"line2d_4\">\n      <defs>\n       <path id=\"mb09f94abe3\" d=\"M 0 0 \nL -3.5 0 \n\" style=\"stroke: #000000; stroke-width: 0.8\"/>\n      </defs>\n      <g>\n       <use xlink:href=\"#mb09f94abe3\" x=\"26.925\" y=\"10.999219\" style=\"stroke: #000000; stroke-width: 0.8\"/>\n      </g>\n     </g>\n     <g id=\"text_4\">\n      <!-- 0 -->\n      <g transform=\"translate(13.5625 14.798437)scale(0.1 -0.1)\">\n       <use xlink:href=\"#DejaVuSans-30\"/>\n      </g>\n     </g>\n    </g>\n    <g id=\"ytick_2\">\n     <g id=\"line2d_5\">\n      <g>\n       <use xlink:href=\"#mb09f94abe3\" x=\"26.925\" y=\"46.29792\" style=\"stroke: #000000; stroke-width: 0.8\"/>\n      </g>\n     </g>\n     <g id=\"text_5\">\n      <!-- 10 -->\n      <g transform=\"translate(7.2 50.097139)scale(0.1 -0.1)\">\n       <use xlink:href=\"#DejaVuSans-31\"/>\n       <use xlink:href=\"#DejaVuSans-30\" x=\"63.623047\"/>\n      </g>\n     </g>\n    </g>\n    <g id=\"ytick_3\">\n     <g id=\"line2d_6\">\n      <g>\n       <use xlink:href=\"#mb09f94abe3\" x=\"26.925\" y=\"81.596621\" style=\"stroke: #000000; stroke-width: 0.8\"/>\n      </g>\n     </g>\n     <g id=\"text_6\">\n      <!-- 20 -->\n      <g transform=\"translate(7.2 85.39584)scale(0.1 -0.1)\">\n       <use xlink:href=\"#DejaVuSans-32\"/>\n       <use xlink:href=\"#DejaVuSans-30\" x=\"63.623047\"/>\n      </g>\n     </g>\n    </g>\n   </g>\n   <g id=\"patch_3\">\n    <path d=\"M 26.925 108.070647 \nL 26.925 9.234284 \n\" style=\"fill: none; stroke: #000000; stroke-width: 0.8; stroke-linejoin: miter; stroke-linecap: square\"/>\n   </g>\n   <g id=\"patch_4\">\n    <path d=\"M 125.761364 108.070647 \nL 125.761364 9.234284 \n\" style=\"fill: none; stroke: #000000; stroke-width: 0.8; stroke-linejoin: miter; stroke-linecap: square\"/>\n   </g>\n   <g id=\"patch_5\">\n    <path d=\"M 26.925 108.070647 \nL 125.761364 108.070647 \n\" style=\"fill: none; stroke: #000000; stroke-width: 0.8; stroke-linejoin: miter; stroke-linecap: square\"/>\n   </g>\n   <g id=\"patch_6\">\n    <path d=\"M 26.925 9.234284 \nL 125.761364 9.234284 \n\" style=\"fill: none; stroke: #000000; stroke-width: 0.8; stroke-linejoin: miter; stroke-linecap: square\"/>\n   </g>\n  </g>\n  <g id=\"axes_2\">\n   <g id=\"patch_7\">\n    <path d=\"M 209.543182 108.070647 \nL 308.379545 108.070647 \nL 308.379545 9.234284 \nL 209.543182 9.234284 \nz\n\" style=\"fill: #ffffff\"/>\n   </g>\n   <g clip-path=\"url(#pa9e355d1c6)\">\n    <image xlink:href=\"data:image/png;base64,\niVBORw0KGgoAAAANSUhEUgAAAGMAAABjCAYAAACPO76VAAAEPklEQVR4nO2dTShtURiG17l+k1AGCiWUDMSIokgGlGKEgTIwVowMmJkZKCUDSSkDRTIzMEASZST5SVIGokT+MlDEnX3Wt7LP3Z179j7vPfd9Ru/qO3uvpbdv/e21t4gx5ssQCH4lugHkG5oBBM0AIjXRDQiCh4cHVT4+Phbd1NQUdnN8w8wAgmYAETFJOLV1u6mvr+8/saenR8U2NjZCaZMfmBlA0AwgaAYQSTm1dcnLyxPd29urYpubm6LtsSURMDOAoBlAJOXUdm5uTpX7+/s9f9vZ2Sl6bW0tsDb5gZkBBM0AgmYAkZRjRm5uriofHR2JLioqUrH9/X3RDQ0NwTbsDzAzgKAZQCTlCvz5+VmV9/b2RHd3d6tYcXFxKG3yAzMDCJoBBM0AIinHDJe7uzvPWFpammh7d9cYY56engJq0c8wM4CgGUAk5QrcpbKyUvTu7q6K2V3T4uKiivX19QXaLhdmBhA0AwiaAUQoY0ZKSorompoaFWtvb/e87uDgQHS8nsINDAyo8tTUlOjLy0sVq6+vFx1tehwvmBlA0AwgQlmBDw4Oip6YmPB93fr6uuiysjIVsx8KnZ6eqtjr66vnPa+urlT58/NTdGlpqYpVVVWJ3tra8tHiv4OZAQTNAIJmABHKmFFRURHTdW1tbT9ql7GxMVUeHx9XZXvL4+bmRsU+Pj5Ep6enq9jo6Kjo7e1tFbPHmnjBzACCZgARyArcTXf7gIAbs7m/v1flw8ND0e7KPTX1u4fNzMxUMfeh0MjIiOiVlRUVu729FZ2VleXZNreO9/d3z9/GCjMDCJoBBM0AIpSpbbRxYnV1VbR7wCwa+fn5oktKSlRscnJSld/e3kR3dXWp2MnJieja2lrf9QcBMwMImgEEzQAikHWGvQYwRr8f4W6NXF9fi25paVGxi4uLmOq3D6YZY0x2drbogoICFZufnxddV1fneU+uM/4zaAYQgUxt7Z1QY/RhArebsl/rsrszY/QXcNxd05eXF8/63S7k8fFRtNuFVVdXe97HPoQQxtcTmBlA0AwgaAYQoRxiy8nJEb20tKRira2tvu5xdnamyvbhs/PzcxXb2dlR5ebmZtHLy8sqZr+mbH9Y0hhjGhsbRUcbo+IFMwMImgFE6O9n2F2WMXqndnZ2Ni51uF1aYWGhZ/0209PTqjw0NBSX9viFmQEEzQCCZgCR8Hf6IpGIaPcdupmZGdEZGRmB1G8fanOfGAZxUC0azAwgaAYQCf9Cgr0burCwoGL2wbWOjg4VKy8vj6k+96ytPZ0Nu1tyYWYAQTOAoBlAJHxq6xd7S8MYfVDN/Z8Y7lM5+93A4eFhFXN3ahMJMwMImgHEP9NN/Q8wM4CgGUDQDCBoBhA0AwiaAQTNAIJmAEEzgKAZQNAMIGgGEDQDCJoBBM0AgmYAQTOAoBlA0AwgaAYQNAMImgEEzQCCZgDxG/PpBFv0shkyAAAAAElFTkSuQmCC\" id=\"image49d4617365\" transform=\"scale(1 -1)translate(0 -99)\" x=\"209.543182\" y=\"-9.070647\" width=\"99\" height=\"99\"/>\n   </g>\n   <g id=\"matplotlib.axis_3\">\n    <g id=\"xtick_4\">\n     <g id=\"line2d_7\">\n      <g>\n       <use xlink:href=\"#m13fbb6db13\" x=\"211.308117\" y=\"108.070647\" style=\"stroke: #000000; stroke-width: 0.8\"/>\n      </g>\n     </g>\n     <g id=\"text_7\">\n      <!-- 0 -->\n      <g transform=\"translate(208.126867 122.669085)scale(0.1 -0.1)\">\n       <use xlink:href=\"#DejaVuSans-30\"/>\n      </g>\n     </g>\n    </g>\n    <g id=\"xtick_5\">\n     <g id=\"line2d_8\">\n      <g>\n       <use xlink:href=\"#m13fbb6db13\" x=\"246.606818\" y=\"108.070647\" style=\"stroke: #000000; stroke-width: 0.8\"/>\n      </g>\n     </g>\n     <g id=\"text_8\">\n      <!-- 10 -->\n      <g transform=\"translate(240.244318 122.669085)scale(0.1 -0.1)\">\n       <use xlink:href=\"#DejaVuSans-31\"/>\n       <use xlink:href=\"#DejaVuSans-30\" x=\"63.623047\"/>\n      </g>\n     </g>\n    </g>\n    <g id=\"xtick_6\">\n     <g id=\"line2d_9\">\n      <g>\n       <use xlink:href=\"#m13fbb6db13\" x=\"281.905519\" y=\"108.070647\" style=\"stroke: #000000; stroke-width: 0.8\"/>\n      </g>\n     </g>\n     <g id=\"text_9\">\n      <!-- 20 -->\n      <g transform=\"translate(275.543019 122.669085)scale(0.1 -0.1)\">\n       <use xlink:href=\"#DejaVuSans-32\"/>\n       <use xlink:href=\"#DejaVuSans-30\" x=\"63.623047\"/>\n      </g>\n     </g>\n    </g>\n   </g>\n   <g id=\"matplotlib.axis_4\">\n    <g id=\"ytick_4\">\n     <g id=\"line2d_10\">\n      <g>\n       <use xlink:href=\"#mb09f94abe3\" x=\"209.543182\" y=\"10.999219\" style=\"stroke: #000000; stroke-width: 0.8\"/>\n      </g>\n     </g>\n     <g id=\"text_10\">\n      <!-- 0 -->\n      <g transform=\"translate(196.180682 14.798437)scale(0.1 -0.1)\">\n       <use xlink:href=\"#DejaVuSans-30\"/>\n      </g>\n     </g>\n    </g>\n    <g id=\"ytick_5\">\n     <g id=\"line2d_11\">\n      <g>\n       <use xlink:href=\"#mb09f94abe3\" x=\"209.543182\" y=\"46.29792\" style=\"stroke: #000000; stroke-width: 0.8\"/>\n      </g>\n     </g>\n     <g id=\"text_11\">\n      <!-- 10 -->\n      <g transform=\"translate(189.818182 50.097139)scale(0.1 -0.1)\">\n       <use xlink:href=\"#DejaVuSans-31\"/>\n       <use xlink:href=\"#DejaVuSans-30\" x=\"63.623047\"/>\n      </g>\n     </g>\n    </g>\n    <g id=\"ytick_6\">\n     <g id=\"line2d_12\">\n      <g>\n       <use xlink:href=\"#mb09f94abe3\" x=\"209.543182\" y=\"81.596621\" style=\"stroke: #000000; stroke-width: 0.8\"/>\n      </g>\n     </g>\n     <g id=\"text_12\">\n      <!-- 20 -->\n      <g transform=\"translate(189.818182 85.39584)scale(0.1 -0.1)\">\n       <use xlink:href=\"#DejaVuSans-32\"/>\n       <use xlink:href=\"#DejaVuSans-30\" x=\"63.623047\"/>\n      </g>\n     </g>\n    </g>\n   </g>\n   <g id=\"patch_8\">\n    <path d=\"M 209.543182 108.070647 \nL 209.543182 9.234284 \n\" style=\"fill: none; stroke: #000000; stroke-width: 0.8; stroke-linejoin: miter; stroke-linecap: square\"/>\n   </g>\n   <g id=\"patch_9\">\n    <path d=\"M 308.379545 108.070647 \nL 308.379545 9.234284 \n\" style=\"fill: none; stroke: #000000; stroke-width: 0.8; stroke-linejoin: miter; stroke-linecap: square\"/>\n   </g>\n   <g id=\"patch_10\">\n    <path d=\"M 209.543182 108.070647 \nL 308.379545 108.070647 \n\" style=\"fill: none; stroke: #000000; stroke-width: 0.8; stroke-linejoin: miter; stroke-linecap: square\"/>\n   </g>\n   <g id=\"patch_11\">\n    <path d=\"M 209.543182 9.234284 \nL 308.379545 9.234284 \n\" style=\"fill: none; stroke: #000000; stroke-width: 0.8; stroke-linejoin: miter; stroke-linecap: square\"/>\n   </g>\n  </g>\n  <g id=\"axes_3\">\n   <g id=\"patch_12\">\n    <path d=\"M 26.925 226.674284 \nL 125.761364 226.674284 \nL 125.761364 127.83792 \nL 26.925 127.83792 \nz\n\" style=\"fill: #ffffff\"/>\n   </g>\n   <g clip-path=\"url(#pc67f719ec3)\">\n    <image xlink:href=\"data:image/png;base64,\niVBORw0KGgoAAAANSUhEUgAAAGMAAABjCAYAAACPO76VAAAEJ0lEQVR4nO2cvS8uURDGzytXoUFDIhJUEgqVTqGTSCh8FBJRaGhIiFZoaDQkNBQKIlEQCY0/QKGgUYjER1CIoJGgkXC7MXPYte/r3d3Hvc+vmpPZj5M8O3POnp2zGefcuyMQFKTdAfIBxQCCYgBBMYCgGEBQDCAoBhAUAwiKAQTFAIJiAEExgKAYQPxJuwNhVFdXi93e3m58nZ2dYjc3Nxvf+7tdiL6/vxd7enra+BYWFn7cz3zByACCYgBBMYDIOKAvfXqMcM65ra0tsRsaGgLPy2Qypu2PGWEsLy+Lvbi4aHyHh4eRr5MPGBlAUAwgEk9ThYWFpl1VVSW2TkvOOVdfXx/pmhcXF6ZdVFRk2hUVFYHn6hR3d3dnfG1tbWInkbIYGUBQDCAoBhCJL4eMjY2Ztr88oTk+PhZ7aWkp8Lj5+XnTrqmpMe3+/n6xx8fHja+g4ON5LC8vN76ysrLAe8YBIwMIigFEImmqtbVV7KmpKePTb8v+Cqo+9uHhIfL9Li8vTXtyclLskpIS4xseHv6yL84519TUJPbu7m7k++cKIwMIigEExQAikeWQxsZGsYeGhoxPjwtnZ2dxd+XTdPX29lZsf8w4PT0Vu66uLt6OOUYGFBQDiESmtno1dGJiwviur6+T6ILQ1dUV+dhsptP5gJEBBMUAgmIAEcuY4ReV6S94/vRxdXVV7JGRkTi6Y6azg4ODxqdXbd/e3owvbEU5DhgZQFAMIGJJU36NU3FxceCx+o3cfzuP+nHpO3Rq8t+kdWryV3v9dtwwMoCgGEBQDCCg92foIra5ubnA435Sa3t1dSV2R0eH8Z2cnES+Tj5gZABBMYCgGEDEMmbs7OyYdmlpqdi6UiMpXl9fxfaX7PU4od9r0oCRAQTFACKRggRd++qnsKh7MHw2NzfF3tvbMz5/avv4+Cj2yspKTvdLAkYGEBQDCIoBROpbj7u7u8VeX1+PfN7GxobYPT09ee1TWjAygKAYQKSepvSK69HRkfFFrW/Vfzlw7nNhw8vLS26dSxhGBhAUAwiKAUTqY4bG3zLc19cndthqr/+lr7a21rTPz89/3rkEYGQAQTGAgCpI8IvGDg4OcrqOvwdjZmYm1y4lCiMDCIoBBMUAAmpq66O/AvpfCPXPJb8rYgv7ybBGF7R9dc+4YWQAQTGAgE5TmsrKStPWb+e9vb3Gl83fDHSKe3p6Mr6bm5vA88K2n83Ozoqdzb4SRgYQFAMIigHErxkzwvBXe9fW1kxb/2RY/9TYOTtmZLOvQ5/3/PxsfPv7+2K3tLREviYjAwiKAcQ/kaa+Q29J0FNi58LT1MDAgNh+TfDo6KjY/mrz9vZ2Tv1kZABBMYCgGED8F2PGb4GRAQTFAIJiAEExgKAYQFAMICgGEBQDCIoBBMUAgmIAQTGAoBhA/AVPPgjh04UxwwAAAABJRU5ErkJggg==\" id=\"image770c1274da\" transform=\"scale(1 -1)translate(0 -99)\" x=\"26.925\" y=\"-127.674284\" width=\"99\" height=\"99\"/>\n   </g>\n   <g id=\"matplotlib.axis_5\">\n    <g id=\"xtick_7\">\n     <g id=\"line2d_13\">\n      <g>\n       <use xlink:href=\"#m13fbb6db13\" x=\"28.689935\" y=\"226.674284\" style=\"stroke: #000000; stroke-width: 0.8\"/>\n      </g>\n     </g>\n     <g id=\"text_13\">\n      <!-- 0 -->\n      <g transform=\"translate(25.508685 241.272721)scale(0.1 -0.1)\">\n       <use xlink:href=\"#DejaVuSans-30\"/>\n      </g>\n     </g>\n    </g>\n    <g id=\"xtick_8\">\n     <g id=\"line2d_14\">\n      <g>\n       <use xlink:href=\"#m13fbb6db13\" x=\"63.988636\" y=\"226.674284\" style=\"stroke: #000000; stroke-width: 0.8\"/>\n      </g>\n     </g>\n     <g id=\"text_14\">\n      <!-- 10 -->\n      <g transform=\"translate(57.626136 241.272721)scale(0.1 -0.1)\">\n       <use xlink:href=\"#DejaVuSans-31\"/>\n       <use xlink:href=\"#DejaVuSans-30\" x=\"63.623047\"/>\n      </g>\n     </g>\n    </g>\n    <g id=\"xtick_9\">\n     <g id=\"line2d_15\">\n      <g>\n       <use xlink:href=\"#m13fbb6db13\" x=\"99.287338\" y=\"226.674284\" style=\"stroke: #000000; stroke-width: 0.8\"/>\n      </g>\n     </g>\n     <g id=\"text_15\">\n      <!-- 20 -->\n      <g transform=\"translate(92.924838 241.272721)scale(0.1 -0.1)\">\n       <use xlink:href=\"#DejaVuSans-32\"/>\n       <use xlink:href=\"#DejaVuSans-30\" x=\"63.623047\"/>\n      </g>\n     </g>\n    </g>\n   </g>\n   <g id=\"matplotlib.axis_6\">\n    <g id=\"ytick_7\">\n     <g id=\"line2d_16\">\n      <g>\n       <use xlink:href=\"#mb09f94abe3\" x=\"26.925\" y=\"129.602855\" style=\"stroke: #000000; stroke-width: 0.8\"/>\n      </g>\n     </g>\n     <g id=\"text_16\">\n      <!-- 0 -->\n      <g transform=\"translate(13.5625 133.402074)scale(0.1 -0.1)\">\n       <use xlink:href=\"#DejaVuSans-30\"/>\n      </g>\n     </g>\n    </g>\n    <g id=\"ytick_8\">\n     <g id=\"line2d_17\">\n      <g>\n       <use xlink:href=\"#mb09f94abe3\" x=\"26.925\" y=\"164.901556\" style=\"stroke: #000000; stroke-width: 0.8\"/>\n      </g>\n     </g>\n     <g id=\"text_17\">\n      <!-- 10 -->\n      <g transform=\"translate(7.2 168.700775)scale(0.1 -0.1)\">\n       <use xlink:href=\"#DejaVuSans-31\"/>\n       <use xlink:href=\"#DejaVuSans-30\" x=\"63.623047\"/>\n      </g>\n     </g>\n    </g>\n    <g id=\"ytick_9\">\n     <g id=\"line2d_18\">\n      <g>\n       <use xlink:href=\"#mb09f94abe3\" x=\"26.925\" y=\"200.200258\" style=\"stroke: #000000; stroke-width: 0.8\"/>\n      </g>\n     </g>\n     <g id=\"text_18\">\n      <!-- 20 -->\n      <g transform=\"translate(7.2 203.999476)scale(0.1 -0.1)\">\n       <use xlink:href=\"#DejaVuSans-32\"/>\n       <use xlink:href=\"#DejaVuSans-30\" x=\"63.623047\"/>\n      </g>\n     </g>\n    </g>\n   </g>\n   <g id=\"patch_13\">\n    <path d=\"M 26.925 226.674284 \nL 26.925 127.83792 \n\" style=\"fill: none; stroke: #000000; stroke-width: 0.8; stroke-linejoin: miter; stroke-linecap: square\"/>\n   </g>\n   <g id=\"patch_14\">\n    <path d=\"M 125.761364 226.674284 \nL 125.761364 127.83792 \n\" style=\"fill: none; stroke: #000000; stroke-width: 0.8; stroke-linejoin: miter; stroke-linecap: square\"/>\n   </g>\n   <g id=\"patch_15\">\n    <path d=\"M 26.925 226.674284 \nL 125.761364 226.674284 \n\" style=\"fill: none; stroke: #000000; stroke-width: 0.8; stroke-linejoin: miter; stroke-linecap: square\"/>\n   </g>\n   <g id=\"patch_16\">\n    <path d=\"M 26.925 127.83792 \nL 125.761364 127.83792 \n\" style=\"fill: none; stroke: #000000; stroke-width: 0.8; stroke-linejoin: miter; stroke-linecap: square\"/>\n   </g>\n  </g>\n  <g id=\"axes_4\">\n   <g id=\"patch_17\">\n    <path d=\"M 209.543182 226.674284 \nL 308.379545 226.674284 \nL 308.379545 127.83792 \nL 209.543182 127.83792 \nz\n\" style=\"fill: #ffffff\"/>\n   </g>\n   <g clip-path=\"url(#p9487346efb)\">\n    <image xlink:href=\"data:image/png;base64,\niVBORw0KGgoAAAANSUhEUgAAAGMAAABjCAYAAACPO76VAAAEoElEQVR4nO2cSSi+XRjGz/sZC1lQMmWh2IiFlSGUDVEWhFIsJMNGhkIJC6UoCymFKDsrFspQFsSCjQUZChlWpshUIv67+zv3qff/vd6e4arv/q2u0xXn6Op+znHOeR6PUupHCRD84/YAhH+RMICQMICQMICQMICQMICQMICQMICQMICQMICQMICQMICQMIAIdHsAfyMkJIR0T08P8zIyMkgnJyczLzw8nLWPj49J7+7uMm9mZob01dWV/4O1AKkMICQMICQMIDwK6KQvMjKStRcXF0nn5eX5/Hs8Hg9r//x4/xPf3t5ILy0tMa+2tpb019eXz/37i1QGEBIGEFBL287OTtbOyckhvbq6yjxziaoTFhbG2tnZ2aQTEhKYp7erqqqYt7+/T3poaMhrf1YhlQGEhAGEhAGE60vb0NBQ0ufn58yrrKwkvbW1ZUl/MTExrD0yMkK6pqaGed/f36RTU1OZZ47VCqQygJAwgHB9aZufn086IiKCefpuq1Xc3Nywdn19Penb21vmtbe3k25sbGReV1eX5WOTygBCwgBCwgDC9TlDP5W7uLhg3v39ve39f35+kja3Y/T5LCkpyfaxSGUAIWEA4fpjSj+0SUlJYV5cXBzph4cH5n18fNg7MKXU09MT6cPDQ9v7k8oAQsIAQsIAwvU5Y2Njg3RQUBDzCgsLSVdXVzOvpKTE8rE0Nzd77b+trc3y/kykMoCQMIBw/XBJx7zrqh8EmXeh9KXu5OQk8xYWFlhbv1gQHx/PvLm5OdL6BQillFpZWSFdVlbGPP3gySqkMoCQMICQMIBwfc7Izc0lvby8zDzzMpqvmPPLwcEB6efnZ+ZlZWWR3t7eZl5xcTHp19dXv8byG6QygJAwgJAwgHB8zigqKmLt+fl50o+Pj8yLjY0lHRjo+87N397PuLy8ZN7o6Cjp8fFxn/uwA6kMICQMIBx/TOmXxpRSqqCggHRDQwPz0tLSSE9NTTEvPT3dax/6JQMTc2dY31apq6tjnrnUthupDCAkDCAkDCAcnzOGh4dZ++joiPTs7KzXnzMvRbe2tpI2l73mK8T6krm3t5d5+uvFZ2dnzDNvq9iNVAYQEgYQjl9IiIqKYm3z0eCNl5cX1h4cHPSrf/M+rb4zXF5ezjz9QsL6+rpf/f0GqQwgJAwgJAwgHJ8zzCVqZmYm6c3NTdv7Ny9Qj42Nka6oqGDeb3aKrUAqAwgJAwjHH1Pmq2Ld3d2kzZ1ZJy4B6JjLZ/NLPnYjlQGEhAGEhAGE43PGyckJa0dHR5Pu7+9nnv5JCKsuGgcEBLB2S0sL6YmJCUv68BepDCAkDCAcf0zt7e2x9t3dHemOjg7m6f+tNzU1+d2n/uEuc/mcmJhIWj+wcgOpDCAkDCAkDCBcfz9Df06bH/INDg4mfX19zbydnR2vv9PcGdZP7MztmNLSUtKnp6f/PWAbkcoAQsIAwvXHlE5fXx9rDwwMkDYfS/oXb8xXhtfW1lhbP7Sanp5m3vv7uz9DtQWpDCAkDCAkDCCg5oz/O1IZQEgYQEgYQEgYQEgYQEgYQEgYQEgYQEgYQEgYQEgYQEgYQEgYQPwBC98iZEqA6NAAAAAASUVORK5CYII=\" id=\"imagee5543aacdf\" transform=\"scale(1 -1)translate(0 -99)\" x=\"209.543182\" y=\"-127.674284\" width=\"99\" height=\"99\"/>\n   </g>\n   <g id=\"matplotlib.axis_7\">\n    <g id=\"xtick_10\">\n     <g id=\"line2d_19\">\n      <g>\n       <use xlink:href=\"#m13fbb6db13\" x=\"211.308117\" y=\"226.674284\" style=\"stroke: #000000; stroke-width: 0.8\"/>\n      </g>\n     </g>\n     <g id=\"text_19\">\n      <!-- 0 -->\n      <g transform=\"translate(208.126867 241.272721)scale(0.1 -0.1)\">\n       <use xlink:href=\"#DejaVuSans-30\"/>\n      </g>\n     </g>\n    </g>\n    <g id=\"xtick_11\">\n     <g id=\"line2d_20\">\n      <g>\n       <use xlink:href=\"#m13fbb6db13\" x=\"246.606818\" y=\"226.674284\" style=\"stroke: #000000; stroke-width: 0.8\"/>\n      </g>\n     </g>\n     <g id=\"text_20\">\n      <!-- 10 -->\n      <g transform=\"translate(240.244318 241.272721)scale(0.1 -0.1)\">\n       <use xlink:href=\"#DejaVuSans-31\"/>\n       <use xlink:href=\"#DejaVuSans-30\" x=\"63.623047\"/>\n      </g>\n     </g>\n    </g>\n    <g id=\"xtick_12\">\n     <g id=\"line2d_21\">\n      <g>\n       <use xlink:href=\"#m13fbb6db13\" x=\"281.905519\" y=\"226.674284\" style=\"stroke: #000000; stroke-width: 0.8\"/>\n      </g>\n     </g>\n     <g id=\"text_21\">\n      <!-- 20 -->\n      <g transform=\"translate(275.543019 241.272721)scale(0.1 -0.1)\">\n       <use xlink:href=\"#DejaVuSans-32\"/>\n       <use xlink:href=\"#DejaVuSans-30\" x=\"63.623047\"/>\n      </g>\n     </g>\n    </g>\n   </g>\n   <g id=\"matplotlib.axis_8\">\n    <g id=\"ytick_10\">\n     <g id=\"line2d_22\">\n      <g>\n       <use xlink:href=\"#mb09f94abe3\" x=\"209.543182\" y=\"129.602855\" style=\"stroke: #000000; stroke-width: 0.8\"/>\n      </g>\n     </g>\n     <g id=\"text_22\">\n      <!-- 0 -->\n      <g transform=\"translate(196.180682 133.402074)scale(0.1 -0.1)\">\n       <use xlink:href=\"#DejaVuSans-30\"/>\n      </g>\n     </g>\n    </g>\n    <g id=\"ytick_11\">\n     <g id=\"line2d_23\">\n      <g>\n       <use xlink:href=\"#mb09f94abe3\" x=\"209.543182\" y=\"164.901556\" style=\"stroke: #000000; stroke-width: 0.8\"/>\n      </g>\n     </g>\n     <g id=\"text_23\">\n      <!-- 10 -->\n      <g transform=\"translate(189.818182 168.700775)scale(0.1 -0.1)\">\n       <use xlink:href=\"#DejaVuSans-31\"/>\n       <use xlink:href=\"#DejaVuSans-30\" x=\"63.623047\"/>\n      </g>\n     </g>\n    </g>\n    <g id=\"ytick_12\">\n     <g id=\"line2d_24\">\n      <g>\n       <use xlink:href=\"#mb09f94abe3\" x=\"209.543182\" y=\"200.200258\" style=\"stroke: #000000; stroke-width: 0.8\"/>\n      </g>\n     </g>\n     <g id=\"text_24\">\n      <!-- 20 -->\n      <g transform=\"translate(189.818182 203.999476)scale(0.1 -0.1)\">\n       <use xlink:href=\"#DejaVuSans-32\"/>\n       <use xlink:href=\"#DejaVuSans-30\" x=\"63.623047\"/>\n      </g>\n     </g>\n    </g>\n   </g>\n   <g id=\"patch_18\">\n    <path d=\"M 209.543182 226.674284 \nL 209.543182 127.83792 \n\" style=\"fill: none; stroke: #000000; stroke-width: 0.8; stroke-linejoin: miter; stroke-linecap: square\"/>\n   </g>\n   <g id=\"patch_19\">\n    <path d=\"M 308.379545 226.674284 \nL 308.379545 127.83792 \n\" style=\"fill: none; stroke: #000000; stroke-width: 0.8; stroke-linejoin: miter; stroke-linecap: square\"/>\n   </g>\n   <g id=\"patch_20\">\n    <path d=\"M 209.543182 226.674284 \nL 308.379545 226.674284 \n\" style=\"fill: none; stroke: #000000; stroke-width: 0.8; stroke-linejoin: miter; stroke-linecap: square\"/>\n   </g>\n   <g id=\"patch_21\">\n    <path d=\"M 209.543182 127.83792 \nL 308.379545 127.83792 \n\" style=\"fill: none; stroke: #000000; stroke-width: 0.8; stroke-linejoin: miter; stroke-linecap: square\"/>\n   </g>\n  </g>\n </g>\n <defs>\n  <clipPath id=\"pf51100067f\">\n   <rect x=\"26.925\" y=\"9.234284\" width=\"98.836364\" height=\"98.836364\"/>\n  </clipPath>\n  <clipPath id=\"pa9e355d1c6\">\n   <rect x=\"209.543182\" y=\"9.234284\" width=\"98.836364\" height=\"98.836364\"/>\n  </clipPath>\n  <clipPath id=\"pc67f719ec3\">\n   <rect x=\"26.925\" y=\"127.83792\" width=\"98.836364\" height=\"98.836364\"/>\n  </clipPath>\n  <clipPath id=\"p9487346efb\">\n   <rect x=\"209.543182\" y=\"127.83792\" width=\"98.836364\" height=\"98.836364\"/>\n  </clipPath>\n </defs>\n</svg>\n",
      "text/plain": [
       "<Figure size 432x288 with 4 Axes>"
      ]
     },
     "metadata": {
      "needs_background": "light"
     },
     "output_type": "display_data"
    }
   ],
   "source": [
    "# test preprocess\n",
    "example = next(iter(tfds.as_numpy(ds)))\n",
    "\n",
    "image, label_vec = preprocess(example)\n",
    "print(image.shape, label_vec.shape)\n",
    "print(label_vec)\n",
    "\n",
    "f, ax = plt.subplots(2,2)\n",
    "ax[0,0].imshow(image[:,0].reshape((28,28)), cmap='gray')\n",
    "ax[0,1].imshow(image[:,1].reshape((28,28)), cmap='gray')\n",
    "ax[1,0].imshow(image[:,2].reshape((28,28)), cmap='gray')\n",
    "ax[1,1].imshow(image[:,3].reshape((28,28)), cmap='gray')"
   ]
  },
  {
   "cell_type": "code",
   "execution_count": 27,
   "metadata": {},
   "outputs": [
    {
     "name": "stdout",
     "output_type": "stream",
     "text": [
      "=== cost of step 1 was nan     \n",
      "=== cost of step 2 was nan     \n",
      "=== cost of step 3 was nan     \n",
      "=== cost of step 4 was nan     \n",
      "=== cost of step 5 was nan     \n",
      "=== cost of step 6 was nan     \n",
      "=== cost of step 7 was nan     \n",
      "=== cost of step 8 was nan     \n",
      "=== cost of step 9 was nan     \n",
      "=== cost of step 10 was nan     \n",
      "=== cost of step 11 was nan     \n",
      "=== cost of step 12 was nan     \n",
      "=== cost of step 13 was nan     \n",
      "=== cost of step 14 was nan     \n",
      "=== cost of step 15 was nan     \n",
      "=== cost of step 16 was nan     \n",
      "=== cost of step 17 was nan     \n",
      "=== cost of step 18 was nan     \n",
      "=== cost of step 19 was nan     \n",
      "=== cost of step 20 was nan     \n",
      "=== cost of step 21 was nan     \n",
      "=== cost of step 22 was nan     \n",
      "=== cost of step 23 was nan     \n",
      "=== cost of step 24 was nan     \n",
      "====== setting learning rate to 0.0001\n",
      "=== cost of step 25 was nan     \n",
      "=== cost of step 26 was nan     \n",
      "=== cost of step 27 was nan     \n",
      "=== cost of step 28 was nan     \n",
      "=== cost of step 29 was nan     \n",
      "=== cost of step 30 was nan     \n",
      "=== cost of step 31 was nan     \n",
      "=== cost of step 32 was nan     \n",
      "=== cost of step 33 was nan     \n",
      "--> running step: 34\r"
     ]
    },
    {
     "name": "stderr",
     "output_type": "stream",
     "text": [
      "C:\\Users\\phiga\\AppData\\Local\\Temp\\ipykernel_5624\\1248962620.py:15: RuntimeWarning: divide by zero encountered in log\n",
      "  loss.append(-(y*np.log(yhat) + (1-y)*np.log(1-yhat)))\n",
      "C:\\Users\\phiga\\AppData\\Local\\Temp\\ipykernel_5624\\1248962620.py:15: RuntimeWarning: invalid value encountered in multiply\n",
      "  loss.append(-(y*np.log(yhat) + (1-y)*np.log(1-yhat)))\n",
      "C:\\Users\\phiga\\AppData\\Local\\Temp\\ipykernel_5624\\1248962620.py:15: RuntimeWarning: invalid value encountered in log\n",
      "  loss.append(-(y*np.log(yhat) + (1-y)*np.log(1-yhat)))\n",
      "C:\\Users\\phiga\\AppData\\Local\\Temp\\ipykernel_5624\\1248962620.py:21: RuntimeWarning: invalid value encountered in divide\n",
      "  loss.append((yhat - y)/(yhat - yhat**2))\n",
      "C:\\Users\\phiga\\AppData\\Local\\Temp\\ipykernel_5624\\1248962620.py:21: RuntimeWarning: divide by zero encountered in divide\n",
      "  loss.append((yhat - y)/(yhat - yhat**2))\n",
      "c:\\Users\\phiga\\Documents\\GitHub\\numpy-neural-network\\layers.py:32: RuntimeWarning: invalid value encountered in multiply\n",
      "  d_z = d_a * self.activation.derivate(clipped_Z)\n"
     ]
    },
    {
     "name": "stdout",
     "output_type": "stream",
     "text": [
      "=== cost of step 34 was nan     \n",
      "=== cost of step 35 was nan     \n",
      "=== cost of step 36 was nan     \n",
      "=== cost of step 37 was nan     \n",
      "=== cost of step 38 was nan     \n",
      "=== cost of step 39 was nan     \n",
      "=== cost of step 40 was nan     \n",
      "=== cost of step 41 was nan     \n",
      "=== cost of step 42 was nan     \n",
      "=== cost of step 43 was nan     \n",
      "=== cost of step 44 was nan     \n",
      "=== cost of step 45 was nan     \n",
      "=== cost of step 46 was nan     \n",
      "=== cost of step 47 was nan     \n",
      "=== cost of step 48 was nan     \n",
      "=== cost of step 49 was nan     \n",
      "====== setting learning rate to 1e-05\n",
      "=== cost of step 50 was nan     \n",
      "=== cost of step 51 was nan     \n",
      "=== cost of step 52 was nan     \n",
      "=== cost of step 53 was nan     \n",
      "=== cost of step 54 was nan     \n",
      "=== cost of step 55 was nan     \n",
      "=== cost of step 56 was nan     \n",
      "=== cost of step 57 was nan     \n",
      "=== cost of step 58 was nan     \n",
      "=== cost of step 59 was nan     \n",
      "=== cost of step 60 was nan     \n",
      "=== cost of step 61 was nan     \n",
      "=== cost of step 62 was nan     \n",
      "=== cost of step 63 was nan     \n",
      "=== cost of step 64 was nan     \n",
      "=== cost of step 65 was nan     \n",
      "=== cost of step 66 was nan     \n",
      "=== cost of step 67 was nan     \n",
      "=== cost of step 68 was nan     \n",
      "=== cost of step 69 was nan     \n",
      "=== cost of step 70 was nan     \n",
      "=== cost of step 71 was nan     \n",
      "=== cost of step 72 was nan     \n",
      "=== cost of step 73 was nan     \n",
      "=== cost of step 74 was nan     \n",
      "====== setting learning rate to 1.0000000000000002e-06\n",
      "=== cost of step 75 was nan     \n",
      "=== cost of step 76 was nan     \n",
      "=== cost of step 77 was nan     \n",
      "=== cost of step 78 was nan     \n",
      "=== cost of step 79 was nan     \n",
      "=== cost of step 80 was nan     \n",
      "=== cost of step 81 was nan     \n",
      "=== cost of step 82 was nan     \n",
      "=== cost of step 83 was nan     \n",
      "=== cost of step 84 was nan     \n",
      "=== cost of step 85 was nan     \n",
      "=== cost of step 86 was nan     \n",
      "=== cost of step 87 was nan     \n",
      "=== cost of step 88 was nan     \n",
      "=== cost of step 89 was nan     \n",
      "=== cost of step 90 was nan     \n",
      "=== cost of step 91 was nan     \n",
      "=== cost of step 92 was nan     \n",
      "=== cost of step 93 was nan     \n",
      "=== cost of step 94 was nan     \n",
      "=== cost of step 95 was nan     \n",
      "=== cost of step 96 was nan     \n",
      "=== cost of step 97 was nan     \n",
      "=== cost of step 98 was nan     \n",
      "=== cost of step 99 was nan     \n",
      "=== cost of step 100 was nan     \n"
     ]
    }
   ],
   "source": [
    "TRAIN_STEPS = 100\n",
    "    \n",
    "costs = []\n",
    "i = 1\n",
    "\n",
    "for example in tfds.as_numpy(ds):\n",
    "    print(f'--> running step: {i}', end='\\r')\n",
    "    \n",
    "    # learning rate schedule\n",
    "    if i == 25 or i == 50 or i == 75:\n",
    "        nn.learning_rate /= 10\n",
    "        print(f'====== setting learning rate to {nn.learning_rate}')\n",
    "    \n",
    "    image, label_vec = preprocess(example)\n",
    "    \n",
    "    cos = nn.train_step(image, label_vec)\n",
    "    print(f'=== cost of step {i} was {cos}     ')\n",
    "    costs.append(cos)\n",
    "    \n",
    "    if i == TRAIN_STEPS:\n",
    "        break\n",
    "    i += 1"
   ]
  },
  {
   "cell_type": "code",
   "execution_count": 28,
   "metadata": {},
   "outputs": [
    {
     "data": {
      "image/png": "[encoded data removed]",
      "image/svg+xml": "<?xml version=\"1.0\" encoding=\"utf-8\" standalone=\"no\"?>\n<!DOCTYPE svg PUBLIC \"-//W3C//DTD SVG 1.1//EN\"\n  \"http://www.w3.org/Graphics/SVG/1.1/DTD/svg11.dtd\">\n<svg xmlns:xlink=\"http://www.w3.org/1999/xlink\" width=\"386.845312pt\" height=\"248.518125pt\" viewBox=\"0 0 386.845312 248.518125\" xmlns=\"http://www.w3.org/2000/svg\" version=\"1.1\">\n <metadata>\n  <rdf:RDF xmlns:dc=\"http://purl.org/dc/elements/1.1/\" xmlns:cc=\"http://creativecommons.org/ns#\" xmlns:rdf=\"http://www.w3.org/1999/02/22-rdf-syntax-ns#\">\n   <cc:Work>\n    <dc:type rdf:resource=\"http://purl.org/dc/dcmitype/StillImage\"/>\n    <dc:date>2022-08-23T20:13:28.312937</dc:date>\n    <dc:format>image/svg+xml</dc:format>\n    <dc:creator>\n     <cc:Agent>\n      <dc:title>Matplotlib v3.5.3, https://matplotlib.org/</dc:title>\n     </cc:Agent>\n    </dc:creator>\n   </cc:Work>\n  </rdf:RDF>\n </metadata>\n <defs>\n  <style type=\"text/css\">*{stroke-linejoin: round; stroke-linecap: butt}</style>\n </defs>\n <g id=\"figure_1\">\n  <g id=\"patch_1\">\n   <path d=\"M 0 248.518125 \nL 386.845312 248.518125 \nL 386.845312 0 \nL 0 0 \nL 0 248.518125 \nz\n\" style=\"fill: none\"/>\n  </g>\n  <g id=\"axes_1\">\n   <g id=\"patch_2\">\n    <path d=\"M 44.845313 224.64 \nL 379.645313 224.64 \nL 379.645313 7.2 \nL 44.845313 7.2 \nz\n\" style=\"fill: #ffffff\"/>\n   </g>\n   <g id=\"matplotlib.axis_1\">\n    <g id=\"xtick_1\">\n     <g id=\"line2d_1\">\n      <defs>\n       <path id=\"mb68d678dbd\" d=\"M 0 0 \nL 0 3.5 \n\" style=\"stroke: #000000; stroke-width: 0.8\"/>\n      </defs>\n      <g>\n       <use xlink:href=\"#mb68d678dbd\" x=\"90.499858\" y=\"224.64\" style=\"stroke: #000000; stroke-width: 0.8\"/>\n      </g>\n     </g>\n     <g id=\"text_1\">\n      <!-- −0.04 -->\n      <g transform=\"translate(75.177202 239.238437)scale(0.1 -0.1)\">\n       <defs>\n        <path id=\"DejaVuSans-2212\" d=\"M 678 2272 \nL 4684 2272 \nL 4684 1741 \nL 678 1741 \nL 678 2272 \nz\n\" transform=\"scale(0.015625)\"/>\n        <path id=\"DejaVuSans-30\" d=\"M 2034 4250 \nQ 1547 4250 1301 3770 \nQ 1056 3291 1056 2328 \nQ 1056 1369 1301 889 \nQ 1547 409 2034 409 \nQ 2525 409 2770 889 \nQ 3016 1369 3016 2328 \nQ 3016 3291 2770 3770 \nQ 2525 4250 2034 4250 \nz\nM 2034 4750 \nQ 2819 4750 3233 4129 \nQ 3647 3509 3647 2328 \nQ 3647 1150 3233 529 \nQ 2819 -91 2034 -91 \nQ 1250 -91 836 529 \nQ 422 1150 422 2328 \nQ 422 3509 836 4129 \nQ 1250 4750 2034 4750 \nz\n\" transform=\"scale(0.015625)\"/>\n        <path id=\"DejaVuSans-2e\" d=\"M 684 794 \nL 1344 794 \nL 1344 0 \nL 684 0 \nL 684 794 \nz\n\" transform=\"scale(0.015625)\"/>\n        <path id=\"DejaVuSans-34\" d=\"M 2419 4116 \nL 825 1625 \nL 2419 1625 \nL 2419 4116 \nz\nM 2253 4666 \nL 3047 4666 \nL 3047 1625 \nL 3713 1625 \nL 3713 1100 \nL 3047 1100 \nL 3047 0 \nL 2419 0 \nL 2419 1100 \nL 313 1100 \nL 313 1709 \nL 2253 4666 \nz\n\" transform=\"scale(0.015625)\"/>\n       </defs>\n       <use xlink:href=\"#DejaVuSans-2212\"/>\n       <use xlink:href=\"#DejaVuSans-30\" x=\"83.789062\"/>\n       <use xlink:href=\"#DejaVuSans-2e\" x=\"147.412109\"/>\n       <use xlink:href=\"#DejaVuSans-30\" x=\"179.199219\"/>\n       <use xlink:href=\"#DejaVuSans-34\" x=\"242.822266\"/>\n      </g>\n     </g>\n    </g>\n    <g id=\"xtick_2\">\n     <g id=\"line2d_2\">\n      <g>\n       <use xlink:href=\"#mb68d678dbd\" x=\"151.372585\" y=\"224.64\" style=\"stroke: #000000; stroke-width: 0.8\"/>\n      </g>\n     </g>\n     <g id=\"text_2\">\n      <!-- −0.02 -->\n      <g transform=\"translate(136.049929 239.238437)scale(0.1 -0.1)\">\n       <defs>\n        <path id=\"DejaVuSans-32\" d=\"M 1228 531 \nL 3431 531 \nL 3431 0 \nL 469 0 \nL 469 531 \nQ 828 903 1448 1529 \nQ 2069 2156 2228 2338 \nQ 2531 2678 2651 2914 \nQ 2772 3150 2772 3378 \nQ 2772 3750 2511 3984 \nQ 2250 4219 1831 4219 \nQ 1534 4219 1204 4116 \nQ 875 4013 500 3803 \nL 500 4441 \nQ 881 4594 1212 4672 \nQ 1544 4750 1819 4750 \nQ 2544 4750 2975 4387 \nQ 3406 4025 3406 3419 \nQ 3406 3131 3298 2873 \nQ 3191 2616 2906 2266 \nQ 2828 2175 2409 1742 \nQ 1991 1309 1228 531 \nz\n\" transform=\"scale(0.015625)\"/>\n       </defs>\n       <use xlink:href=\"#DejaVuSans-2212\"/>\n       <use xlink:href=\"#DejaVuSans-30\" x=\"83.789062\"/>\n       <use xlink:href=\"#DejaVuSans-2e\" x=\"147.412109\"/>\n       <use xlink:href=\"#DejaVuSans-30\" x=\"179.199219\"/>\n       <use xlink:href=\"#DejaVuSans-32\" x=\"242.822266\"/>\n      </g>\n     </g>\n    </g>\n    <g id=\"xtick_3\">\n     <g id=\"line2d_3\">\n      <g>\n       <use xlink:href=\"#mb68d678dbd\" x=\"212.245313\" y=\"224.64\" style=\"stroke: #000000; stroke-width: 0.8\"/>\n      </g>\n     </g>\n     <g id=\"text_3\">\n      <!-- 0.00 -->\n      <g transform=\"translate(201.1125 239.238437)scale(0.1 -0.1)\">\n       <use xlink:href=\"#DejaVuSans-30\"/>\n       <use xlink:href=\"#DejaVuSans-2e\" x=\"63.623047\"/>\n       <use xlink:href=\"#DejaVuSans-30\" x=\"95.410156\"/>\n       <use xlink:href=\"#DejaVuSans-30\" x=\"159.033203\"/>\n      </g>\n     </g>\n    </g>\n    <g id=\"xtick_4\">\n     <g id=\"line2d_4\">\n      <g>\n       <use xlink:href=\"#mb68d678dbd\" x=\"273.11804\" y=\"224.64\" style=\"stroke: #000000; stroke-width: 0.8\"/>\n      </g>\n     </g>\n     <g id=\"text_4\">\n      <!-- 0.02 -->\n      <g transform=\"translate(261.985227 239.238437)scale(0.1 -0.1)\">\n       <use xlink:href=\"#DejaVuSans-30\"/>\n       <use xlink:href=\"#DejaVuSans-2e\" x=\"63.623047\"/>\n       <use xlink:href=\"#DejaVuSans-30\" x=\"95.410156\"/>\n       <use xlink:href=\"#DejaVuSans-32\" x=\"159.033203\"/>\n      </g>\n     </g>\n    </g>\n    <g id=\"xtick_5\">\n     <g id=\"line2d_5\">\n      <g>\n       <use xlink:href=\"#mb68d678dbd\" x=\"333.990767\" y=\"224.64\" style=\"stroke: #000000; stroke-width: 0.8\"/>\n      </g>\n     </g>\n     <g id=\"text_5\">\n      <!-- 0.04 -->\n      <g transform=\"translate(322.857955 239.238437)scale(0.1 -0.1)\">\n       <use xlink:href=\"#DejaVuSans-30\"/>\n       <use xlink:href=\"#DejaVuSans-2e\" x=\"63.623047\"/>\n       <use xlink:href=\"#DejaVuSans-30\" x=\"95.410156\"/>\n       <use xlink:href=\"#DejaVuSans-34\" x=\"159.033203\"/>\n      </g>\n     </g>\n    </g>\n   </g>\n   <g id=\"matplotlib.axis_2\">\n    <g id=\"ytick_1\">\n     <g id=\"line2d_6\">\n      <defs>\n       <path id=\"m44590d8d88\" d=\"M 0 0 \nL -3.5 0 \n\" style=\"stroke: #000000; stroke-width: 0.8\"/>\n      </defs>\n      <g>\n       <use xlink:href=\"#m44590d8d88\" x=\"44.845313\" y=\"194.989091\" style=\"stroke: #000000; stroke-width: 0.8\"/>\n      </g>\n     </g>\n     <g id=\"text_6\">\n      <!-- −0.04 -->\n      <g transform=\"translate(7.2 198.78831)scale(0.1 -0.1)\">\n       <use xlink:href=\"#DejaVuSans-2212\"/>\n       <use xlink:href=\"#DejaVuSans-30\" x=\"83.789062\"/>\n       <use xlink:href=\"#DejaVuSans-2e\" x=\"147.412109\"/>\n       <use xlink:href=\"#DejaVuSans-30\" x=\"179.199219\"/>\n       <use xlink:href=\"#DejaVuSans-34\" x=\"242.822266\"/>\n      </g>\n     </g>\n    </g>\n    <g id=\"ytick_2\">\n     <g id=\"line2d_7\">\n      <g>\n       <use xlink:href=\"#m44590d8d88\" x=\"44.845313\" y=\"155.454545\" style=\"stroke: #000000; stroke-width: 0.8\"/>\n      </g>\n     </g>\n     <g id=\"text_7\">\n      <!-- −0.02 -->\n      <g transform=\"translate(7.2 159.253764)scale(0.1 -0.1)\">\n       <use xlink:href=\"#DejaVuSans-2212\"/>\n       <use xlink:href=\"#DejaVuSans-30\" x=\"83.789062\"/>\n       <use xlink:href=\"#DejaVuSans-2e\" x=\"147.412109\"/>\n       <use xlink:href=\"#DejaVuSans-30\" x=\"179.199219\"/>\n       <use xlink:href=\"#DejaVuSans-32\" x=\"242.822266\"/>\n      </g>\n     </g>\n    </g>\n    <g id=\"ytick_3\">\n     <g id=\"line2d_8\">\n      <g>\n       <use xlink:href=\"#m44590d8d88\" x=\"44.845313\" y=\"115.92\" style=\"stroke: #000000; stroke-width: 0.8\"/>\n      </g>\n     </g>\n     <g id=\"text_8\">\n      <!-- 0.00 -->\n      <g transform=\"translate(15.579688 119.719219)scale(0.1 -0.1)\">\n       <use xlink:href=\"#DejaVuSans-30\"/>\n       <use xlink:href=\"#DejaVuSans-2e\" x=\"63.623047\"/>\n       <use xlink:href=\"#DejaVuSans-30\" x=\"95.410156\"/>\n       <use xlink:href=\"#DejaVuSans-30\" x=\"159.033203\"/>\n      </g>\n     </g>\n    </g>\n    <g id=\"ytick_4\">\n     <g id=\"line2d_9\">\n      <g>\n       <use xlink:href=\"#m44590d8d88\" x=\"44.845313\" y=\"76.385455\" style=\"stroke: #000000; stroke-width: 0.8\"/>\n      </g>\n     </g>\n     <g id=\"text_9\">\n      <!-- 0.02 -->\n      <g transform=\"translate(15.579688 80.184673)scale(0.1 -0.1)\">\n       <use xlink:href=\"#DejaVuSans-30\"/>\n       <use xlink:href=\"#DejaVuSans-2e\" x=\"63.623047\"/>\n       <use xlink:href=\"#DejaVuSans-30\" x=\"95.410156\"/>\n       <use xlink:href=\"#DejaVuSans-32\" x=\"159.033203\"/>\n      </g>\n     </g>\n    </g>\n    <g id=\"ytick_5\">\n     <g id=\"line2d_10\">\n      <g>\n       <use xlink:href=\"#m44590d8d88\" x=\"44.845313\" y=\"36.850909\" style=\"stroke: #000000; stroke-width: 0.8\"/>\n      </g>\n     </g>\n     <g id=\"text_10\">\n      <!-- 0.04 -->\n      <g transform=\"translate(15.579688 40.650128)scale(0.1 -0.1)\">\n       <use xlink:href=\"#DejaVuSans-30\"/>\n       <use xlink:href=\"#DejaVuSans-2e\" x=\"63.623047\"/>\n       <use xlink:href=\"#DejaVuSans-30\" x=\"95.410156\"/>\n       <use xlink:href=\"#DejaVuSans-34\" x=\"159.033203\"/>\n      </g>\n     </g>\n    </g>\n   </g>\n   <g id=\"line2d_11\">\n    <path clip-path=\"url(#p1405eac185)\" style=\"fill: none; stroke: #1f77b4; stroke-width: 1.5; stroke-linecap: square\"/>\n   </g>\n   <g id=\"patch_3\">\n    <path d=\"M 44.845313 224.64 \nL 44.845313 7.2 \n\" style=\"fill: none; stroke: #000000; stroke-width: 0.8; stroke-linejoin: miter; stroke-linecap: square\"/>\n   </g>\n   <g id=\"patch_4\">\n    <path d=\"M 379.645313 224.64 \nL 379.645313 7.2 \n\" style=\"fill: none; stroke: #000000; stroke-width: 0.8; stroke-linejoin: miter; stroke-linecap: square\"/>\n   </g>\n   <g id=\"patch_5\">\n    <path d=\"M 44.845313 224.64 \nL 379.645313 224.64 \n\" style=\"fill: none; stroke: #000000; stroke-width: 0.8; stroke-linejoin: miter; stroke-linecap: square\"/>\n   </g>\n   <g id=\"patch_6\">\n    <path d=\"M 44.845313 7.2 \nL 379.645313 7.2 \n\" style=\"fill: none; stroke: #000000; stroke-width: 0.8; stroke-linejoin: miter; stroke-linecap: square\"/>\n   </g>\n  </g>\n </g>\n <defs>\n  <clipPath id=\"p1405eac185\">\n   <rect x=\"44.845313\" y=\"7.2\" width=\"334.8\" height=\"217.44\"/>\n  </clipPath>\n </defs>\n</svg>\n",
      "text/plain": [
       "<Figure size 432x288 with 1 Axes>"
      ]
     },
     "metadata": {
      "needs_background": "light"
     },
     "output_type": "display_data"
    }
   ],
   "source": [
    "plt.plot(costs)\n",
    "plt.show()"
   ]
  },
  {
   "cell_type": "markdown",
   "metadata": {},
   "source": [
    "## Inference"
   ]
  },
  {
   "cell_type": "code",
   "execution_count": 12,
   "metadata": {},
   "outputs": [
    {
     "name": "stdout",
     "output_type": "stream",
     "text": [
      "=== evaluating image\n",
      "=== this image is an [9 3 1 7]\n",
      "[[0. 0. 0. 0.]\n",
      " [0. 0. 1. 0.]\n",
      " [0. 0. 0. 0.]\n",
      " [0. 1. 0. 0.]\n",
      " [0. 0. 0. 0.]\n",
      " [0. 0. 0. 0.]\n",
      " [0. 0. 0. 0.]\n",
      " [0. 0. 0. 1.]\n",
      " [0. 0. 0. 0.]\n",
      " [1. 0. 0. 0.]]\n",
      "[[0.17703362 0.08925604 0.0970493  0.02508355]\n",
      " [0.00903339 0.10036131 0.04599159 0.10596797]\n",
      " [0.00216306 0.18716522 0.04137383 0.08354089]\n",
      " [0.01297471 0.15634408 0.04554058 0.06497675]\n",
      " [0.06819299 0.36101197 0.00941125 0.00324511]\n",
      " [0.00355722 0.00364446 0.26694827 0.01413626]\n",
      " [0.00093586 0.21233695 0.20298436 0.02014794]\n",
      " [0.06452959 0.02426917 0.35804381 0.02626265]\n",
      " [0.04231694 0.06775397 0.021484   0.33076412]\n",
      " [0.00460494 0.00424667 0.01247579 0.25682399]]\n"
     ]
    },
    {
     "name": "stderr",
     "output_type": "stream",
     "text": [
      "C:\\Users\\phiga\\AppData\\Local\\Temp\\ipykernel_11036\\3107589359.py:1: RuntimeWarning: overflow encountered in exp\n",
      "  sigma = lambda x: 1/(1+np.exp(-x))\n"
     ]
    },
    {
     "data": {
      "image/png": "[encoded data removed]",
      "image/svg+xml": "<?xml version=\"1.0\" encoding=\"utf-8\" standalone=\"no\"?>\n<!DOCTYPE svg PUBLIC \"-//W3C//DTD SVG 1.1//EN\"\n  \"http://www.w3.org/Graphics/SVG/1.1/DTD/svg11.dtd\">\n<svg xmlns:xlink=\"http://www.w3.org/1999/xlink\" width=\"315.579545pt\" height=\"250.552409pt\" viewBox=\"0 0 315.579545 250.552409\" xmlns=\"http://www.w3.org/2000/svg\" version=\"1.1\">\n <metadata>\n  <rdf:RDF xmlns:dc=\"http://purl.org/dc/elements/1.1/\" xmlns:cc=\"http://creativecommons.org/ns#\" xmlns:rdf=\"http://www.w3.org/1999/02/22-rdf-syntax-ns#\">\n   <cc:Work>\n    <dc:type rdf:resource=\"http://purl.org/dc/dcmitype/StillImage\"/>\n    <dc:date>2022-08-23T19:44:10.100744</dc:date>\n    <dc:format>image/svg+xml</dc:format>\n    <dc:creator>\n     <cc:Agent>\n      <dc:title>Matplotlib v3.5.3, https://matplotlib.org/</dc:title>\n     </cc:Agent>\n    </dc:creator>\n   </cc:Work>\n  </rdf:RDF>\n </metadata>\n <defs>\n  <style type=\"text/css\">*{stroke-linejoin: round; stroke-linecap: butt}</style>\n </defs>\n <g id=\"figure_1\">\n  <g id=\"patch_1\">\n   <path d=\"M 0 250.552409 \nL 315.579545 250.552409 \nL 315.579545 0 \nL 0 0 \nL 0 250.552409 \nz\n\" style=\"fill: none\"/>\n  </g>\n  <g id=\"axes_1\">\n   <g id=\"patch_2\">\n    <path d=\"M 26.925 108.070647 \nL 125.761364 108.070647 \nL 125.761364 9.234284 \nL 26.925 9.234284 \nz\n\" style=\"fill: #ffffff\"/>\n   </g>\n   <g clip-path=\"url(#p1cf76cb5d7)\">\n    <image xlink:href=\"data:image/png;base64,\niVBORw0KGgoAAAANSUhEUgAAAGMAAABjCAYAAACPO76VAAADb0lEQVR4nO2cMUsrQRSFJ8+nEGMhookgmNZCsIo/QBFL08RGi3Rikyq9nYVg53+QoJDCWFmotaiFSApF1BAEhQREVMREq3ff3oH1BXFnz2PPV53hojPwcWeWySYxY8yHIRD8CnsB5C+UAQRlAEEZQFAGEJQBxO+wF+CatbU1NV5cXJQ8Njamao+Pj07W9Ad2BhCUAQRlABEzEbgO6e7ulvz09ORbGx4eVrX7+/tgF2bBzgCCMoCIxKNtNpuV7N2WjDHm4uJCsr2FuYadAQRlAEEZQETizIjH476129tbyc/Pzy6W4ws7AwjKAIIygKAMICgDCMoAIhKPtl1dXb61VqvlcCVfw84AgjKAiMQ2NT8/71srlUoOV/I17AwgKAMIygCCMoCgDCAoAwioR1v7Xdfl5WXJuVxO1Xp6eiSfn5+r2vb2thr39/f/0AqDhZ0BBGUAQRlAhP6u7ezsrGR7r08kEpLr9bqqNZtNyUNDQ6qWSqU6nj+TyUg+Pj7u+O+CgJ0BBGUAEfo2tbe3J3l6elrVKpWK5KWlJVW7u7uTnEwmVW19fV2NFxYWfOf3boUvLy8drDg42BlAUAYQlAGE8zNjYGBAjS8vLyXb1xYjIyOSvWfEv0in02p8eHgo+fr6WtWmpqYkt9vtjucIAnYGEJQBBGUA4fwK3f5O3VfX2w8PD9+a4+bmRo2r1arkwcFBVYvFYt+aIwjYGUBQBhBQn/T9FH19fWo8MTEh2f4VBO8nhrwOIQJlAEEZQDg/M97e3tS40WhItq9KvG+EbG5udjzH6OioGtvnBCrsDCAoAwjn25T3RQJjjDk9PZVsf9I3MzMjeWtrS9Xe39995/DexNrs7u6q8evrq/9iHcPOAIIygKAMIEK/DlldXZU8OTmpavl8XvLJyYmqbWxs+P7Ps7Mz35r9aP3xgfN7mewMICgDiNC3qf39fclzc3OqtrOzI9m7nRljTK1Wk3x0dKRqvb29P7lEZ7AzgKAMICgDiNDPDC8HBwdq7D0nVlZWVK1cLrtYklPYGUBQBhChfz+jU8bHx9W4UChItr+WbL+LdXV1JblYLKoa0nbHzgCCMoCgDCD+mzMjCrAzgKAMICgDCMoAgjKAoAwgKAMIygCCMoCgDCAoAwjKAIIygKAMICgDCMoAgjKAoAwgKAMIygDiE12Sqvxu//4WAAAAAElFTkSuQmCC\" id=\"imagef973a06c88\" transform=\"scale(1 -1)translate(0 -99)\" x=\"26.925\" y=\"-9.070647\" width=\"99\" height=\"99\"/>\n   </g>\n   <g id=\"matplotlib.axis_1\">\n    <g id=\"xtick_1\">\n     <g id=\"line2d_1\">\n      <defs>\n       <path id=\"m15be108ef9\" d=\"M 0 0 \nL 0 3.5 \n\" style=\"stroke: #000000; stroke-width: 0.8\"/>\n      </defs>\n      <g>\n       <use xlink:href=\"#m15be108ef9\" x=\"28.689935\" y=\"108.070647\" style=\"stroke: #000000; stroke-width: 0.8\"/>\n      </g>\n     </g>\n     <g id=\"text_1\">\n      <!-- 0 -->\n      <g transform=\"translate(25.508685 122.669085)scale(0.1 -0.1)\">\n       <defs>\n        <path id=\"DejaVuSans-30\" d=\"M 2034 4250 \nQ 1547 4250 1301 3770 \nQ 1056 3291 1056 2328 \nQ 1056 1369 1301 889 \nQ 1547 409 2034 409 \nQ 2525 409 2770 889 \nQ 3016 1369 3016 2328 \nQ 3016 3291 2770 3770 \nQ 2525 4250 2034 4250 \nz\nM 2034 4750 \nQ 2819 4750 3233 4129 \nQ 3647 3509 3647 2328 \nQ 3647 1150 3233 529 \nQ 2819 -91 2034 -91 \nQ 1250 -91 836 529 \nQ 422 1150 422 2328 \nQ 422 3509 836 4129 \nQ 1250 4750 2034 4750 \nz\n\" transform=\"scale(0.015625)\"/>\n       </defs>\n       <use xlink:href=\"#DejaVuSans-30\"/>\n      </g>\n     </g>\n    </g>\n    <g id=\"xtick_2\">\n     <g id=\"line2d_2\">\n      <g>\n       <use xlink:href=\"#m15be108ef9\" x=\"63.988636\" y=\"108.070647\" style=\"stroke: #000000; stroke-width: 0.8\"/>\n      </g>\n     </g>\n     <g id=\"text_2\">\n      <!-- 10 -->\n      <g transform=\"translate(57.626136 122.669085)scale(0.1 -0.1)\">\n       <defs>\n        <path id=\"DejaVuSans-31\" d=\"M 794 531 \nL 1825 531 \nL 1825 4091 \nL 703 3866 \nL 703 4441 \nL 1819 4666 \nL 2450 4666 \nL 2450 531 \nL 3481 531 \nL 3481 0 \nL 794 0 \nL 794 531 \nz\n\" transform=\"scale(0.015625)\"/>\n       </defs>\n       <use xlink:href=\"#DejaVuSans-31\"/>\n       <use xlink:href=\"#DejaVuSans-30\" x=\"63.623047\"/>\n      </g>\n     </g>\n    </g>\n    <g id=\"xtick_3\">\n     <g id=\"line2d_3\">\n      <g>\n       <use xlink:href=\"#m15be108ef9\" x=\"99.287338\" y=\"108.070647\" style=\"stroke: #000000; stroke-width: 0.8\"/>\n      </g>\n     </g>\n     <g id=\"text_3\">\n      <!-- 20 -->\n      <g transform=\"translate(92.924838 122.669085)scale(0.1 -0.1)\">\n       <defs>\n        <path id=\"DejaVuSans-32\" d=\"M 1228 531 \nL 3431 531 \nL 3431 0 \nL 469 0 \nL 469 531 \nQ 828 903 1448 1529 \nQ 2069 2156 2228 2338 \nQ 2531 2678 2651 2914 \nQ 2772 3150 2772 3378 \nQ 2772 3750 2511 3984 \nQ 2250 4219 1831 4219 \nQ 1534 4219 1204 4116 \nQ 875 4013 500 3803 \nL 500 4441 \nQ 881 4594 1212 4672 \nQ 1544 4750 1819 4750 \nQ 2544 4750 2975 4387 \nQ 3406 4025 3406 3419 \nQ 3406 3131 3298 2873 \nQ 3191 2616 2906 2266 \nQ 2828 2175 2409 1742 \nQ 1991 1309 1228 531 \nz\n\" transform=\"scale(0.015625)\"/>\n       </defs>\n       <use xlink:href=\"#DejaVuSans-32\"/>\n       <use xlink:href=\"#DejaVuSans-30\" x=\"63.623047\"/>\n      </g>\n     </g>\n    </g>\n   </g>\n   <g id=\"matplotlib.axis_2\">\n    <g id=\"ytick_1\">\n     <g id=\"line2d_4\">\n      <defs>\n       <path id=\"m324842f6c7\" d=\"M 0 0 \nL -3.5 0 \n\" style=\"stroke: #000000; stroke-width: 0.8\"/>\n      </defs>\n      <g>\n       <use xlink:href=\"#m324842f6c7\" x=\"26.925\" y=\"10.999219\" style=\"stroke: #000000; stroke-width: 0.8\"/>\n      </g>\n     </g>\n     <g id=\"text_4\">\n      <!-- 0 -->\n      <g transform=\"translate(13.5625 14.798437)scale(0.1 -0.1)\">\n       <use xlink:href=\"#DejaVuSans-30\"/>\n      </g>\n     </g>\n    </g>\n    <g id=\"ytick_2\">\n     <g id=\"line2d_5\">\n      <g>\n       <use xlink:href=\"#m324842f6c7\" x=\"26.925\" y=\"46.29792\" style=\"stroke: #000000; stroke-width: 0.8\"/>\n      </g>\n     </g>\n     <g id=\"text_5\">\n      <!-- 10 -->\n      <g transform=\"translate(7.2 50.097139)scale(0.1 -0.1)\">\n       <use xlink:href=\"#DejaVuSans-31\"/>\n       <use xlink:href=\"#DejaVuSans-30\" x=\"63.623047\"/>\n      </g>\n     </g>\n    </g>\n    <g id=\"ytick_3\">\n     <g id=\"line2d_6\">\n      <g>\n       <use xlink:href=\"#m324842f6c7\" x=\"26.925\" y=\"81.596621\" style=\"stroke: #000000; stroke-width: 0.8\"/>\n      </g>\n     </g>\n     <g id=\"text_6\">\n      <!-- 20 -->\n      <g transform=\"translate(7.2 85.39584)scale(0.1 -0.1)\">\n       <use xlink:href=\"#DejaVuSans-32\"/>\n       <use xlink:href=\"#DejaVuSans-30\" x=\"63.623047\"/>\n      </g>\n     </g>\n    </g>\n   </g>\n   <g id=\"patch_3\">\n    <path d=\"M 26.925 108.070647 \nL 26.925 9.234284 \n\" style=\"fill: none; stroke: #000000; stroke-width: 0.8; stroke-linejoin: miter; stroke-linecap: square\"/>\n   </g>\n   <g id=\"patch_4\">\n    <path d=\"M 125.761364 108.070647 \nL 125.761364 9.234284 \n\" style=\"fill: none; stroke: #000000; stroke-width: 0.8; stroke-linejoin: miter; stroke-linecap: square\"/>\n   </g>\n   <g id=\"patch_5\">\n    <path d=\"M 26.925 108.070647 \nL 125.761364 108.070647 \n\" style=\"fill: none; stroke: #000000; stroke-width: 0.8; stroke-linejoin: miter; stroke-linecap: square\"/>\n   </g>\n   <g id=\"patch_6\">\n    <path d=\"M 26.925 9.234284 \nL 125.761364 9.234284 \n\" style=\"fill: none; stroke: #000000; stroke-width: 0.8; stroke-linejoin: miter; stroke-linecap: square\"/>\n   </g>\n  </g>\n  <g id=\"axes_2\">\n   <g id=\"patch_7\">\n    <path d=\"M 209.543182 108.070647 \nL 308.379545 108.070647 \nL 308.379545 9.234284 \nL 209.543182 9.234284 \nz\n\" style=\"fill: #ffffff\"/>\n   </g>\n   <g clip-path=\"url(#p4242de5416)\">\n    <image xlink:href=\"data:image/png;base64,\niVBORw0KGgoAAAANSUhEUgAAAGMAAABjCAYAAACPO76VAAAEQUlEQVR4nO2cSyh+XRTG9+tSSBmQEgMT5BIGwkAhMlImJMmUlDFlQDEwMGAkchmZKAZGBgrJBMkt1yiX5J5kwIhvtv5n7T46H+d85/Hv+Y2e1TrvPqued+192ucSMsZ8GAJBWNAFkD/QDCBoBhA0AwiaAQTNAIJmAEEzgKAZQNAMICL8GDQuLk7FTU1Nojs6OlQuJSXF1ZiTk5MqnpmZEb2ysqJyDw8PrsZEg50BBM0AImR82LUdGRlRcUNDg+jt7W2VW1paEp2Tk6NyBQUFopOTk1UuFAqJvr29VbmWlhYVLy8vi356evqq9EBhZwBBM4CgGUD4smYcHR2puL+/X/TY2Ni3xiwvL1dxfX29aHuNsDk/PxddWlr6aS5o2BlA0AwgfJmmwsPDVfz+/i7648P96eLj40WnpaWp3O7uruiSkhKVGx4eVnFqaqroi4sLlauoqBB9cnLiujY/YGcAQTOAoBlA+LJmfJewMP3fmJqaEl1bW6tyvb29oru6ulQuMTFRxYODg6KdWzPGGLO+vi66sLDwvxXsMewMIGgGEFDTVEJCgorv7+8/Pfbg4EB0VlbWl+Omp6eLtncHjo+PRWdkZLiq0y/YGUDQDCBoBhC+PJDwXYqLi10fm5mZKbqmpkblZmdnVezcmT07O1M55zZLUVGRyq2urrquxwvYGUDQDCCgpqmtrS0VOy9fndOSTXt7u4rthw6qq6tFO3dwjdHTlnMnOAjYGUDQDCBoBhBQ2yE2SUlJok9PT1UuOjrak3PMz8+Lrqqq8mTM78LOAIJmAAF1aWtzfX0temBgQOU6Oztd/c4YY+7u7kRfXV2pXGNj409K9BR2BhA0AwiaAQT0pa0T+3Wzzc1N0fYdQns96evr868wD2FnAEEzgKAZQPyaNcPGud2el5enci8vLyp23glcXFz0ta6fwM4AgmYA8WunKedrZQsLC18eu7GxIdr5PoYxxjw/P3tb2A9gZwBBM4CgGUD82jUjIuLP7r/zbp0xxpSVlX36u+7ubhX39PR4WtdPYGcAQTOA+LXTlBP71eO5uTkVx8bGir65uVG5yspK0Xt7ez5U5x52BhA0AwiaAUTga0ZUVJRo+2tr9oNrbhkaGlJxa2vrp8dOT0+Lrqur+9b5vIKdAQTNACLwh9gmJiZE29OE8+sF9itd+/v7oi8vL1Xu7e3N9fmd727k5uaq3M7OjutxvICdAQTNAIJmABH4pe3r66to52VuEIyOjqq4ubn5fz0/OwMImgFE4NOU83I2Pz9f5Zwf8bK/RxsZGfmvxxljTExMjOvzPz4+irZ3fw8PD12P4wXsDCBoBhA0A4jA1wwvyM7OVrH9QeLx8XHR9k5wW1ub6LW1NR+qcw87AwiaAcRfMU39LbAzgKAZQNAMIGgGEDQDCJoBBM0AgmYAQTOAoBlA0AwgaAYQNAMImgEEzQCCZgBBM4D4B/MP9g+T2KiBAAAAAElFTkSuQmCC\" id=\"image9b4b310d2b\" transform=\"scale(1 -1)translate(0 -99)\" x=\"209.543182\" y=\"-9.070647\" width=\"99\" height=\"99\"/>\n   </g>\n   <g id=\"matplotlib.axis_3\">\n    <g id=\"xtick_4\">\n     <g id=\"line2d_7\">\n      <g>\n       <use xlink:href=\"#m15be108ef9\" x=\"211.308117\" y=\"108.070647\" style=\"stroke: #000000; stroke-width: 0.8\"/>\n      </g>\n     </g>\n     <g id=\"text_7\">\n      <!-- 0 -->\n      <g transform=\"translate(208.126867 122.669085)scale(0.1 -0.1)\">\n       <use xlink:href=\"#DejaVuSans-30\"/>\n      </g>\n     </g>\n    </g>\n    <g id=\"xtick_5\">\n     <g id=\"line2d_8\">\n      <g>\n       <use xlink:href=\"#m15be108ef9\" x=\"246.606818\" y=\"108.070647\" style=\"stroke: #000000; stroke-width: 0.8\"/>\n      </g>\n     </g>\n     <g id=\"text_8\">\n      <!-- 10 -->\n      <g transform=\"translate(240.244318 122.669085)scale(0.1 -0.1)\">\n       <use xlink:href=\"#DejaVuSans-31\"/>\n       <use xlink:href=\"#DejaVuSans-30\" x=\"63.623047\"/>\n      </g>\n     </g>\n    </g>\n    <g id=\"xtick_6\">\n     <g id=\"line2d_9\">\n      <g>\n       <use xlink:href=\"#m15be108ef9\" x=\"281.905519\" y=\"108.070647\" style=\"stroke: #000000; stroke-width: 0.8\"/>\n      </g>\n     </g>\n     <g id=\"text_9\">\n      <!-- 20 -->\n      <g transform=\"translate(275.543019 122.669085)scale(0.1 -0.1)\">\n       <use xlink:href=\"#DejaVuSans-32\"/>\n       <use xlink:href=\"#DejaVuSans-30\" x=\"63.623047\"/>\n      </g>\n     </g>\n    </g>\n   </g>\n   <g id=\"matplotlib.axis_4\">\n    <g id=\"ytick_4\">\n     <g id=\"line2d_10\">\n      <g>\n       <use xlink:href=\"#m324842f6c7\" x=\"209.543182\" y=\"10.999219\" style=\"stroke: #000000; stroke-width: 0.8\"/>\n      </g>\n     </g>\n     <g id=\"text_10\">\n      <!-- 0 -->\n      <g transform=\"translate(196.180682 14.798437)scale(0.1 -0.1)\">\n       <use xlink:href=\"#DejaVuSans-30\"/>\n      </g>\n     </g>\n    </g>\n    <g id=\"ytick_5\">\n     <g id=\"line2d_11\">\n      <g>\n       <use xlink:href=\"#m324842f6c7\" x=\"209.543182\" y=\"46.29792\" style=\"stroke: #000000; stroke-width: 0.8\"/>\n      </g>\n     </g>\n     <g id=\"text_11\">\n      <!-- 10 -->\n      <g transform=\"translate(189.818182 50.097139)scale(0.1 -0.1)\">\n       <use xlink:href=\"#DejaVuSans-31\"/>\n       <use xlink:href=\"#DejaVuSans-30\" x=\"63.623047\"/>\n      </g>\n     </g>\n    </g>\n    <g id=\"ytick_6\">\n     <g id=\"line2d_12\">\n      <g>\n       <use xlink:href=\"#m324842f6c7\" x=\"209.543182\" y=\"81.596621\" style=\"stroke: #000000; stroke-width: 0.8\"/>\n      </g>\n     </g>\n     <g id=\"text_12\">\n      <!-- 20 -->\n      <g transform=\"translate(189.818182 85.39584)scale(0.1 -0.1)\">\n       <use xlink:href=\"#DejaVuSans-32\"/>\n       <use xlink:href=\"#DejaVuSans-30\" x=\"63.623047\"/>\n      </g>\n     </g>\n    </g>\n   </g>\n   <g id=\"patch_8\">\n    <path d=\"M 209.543182 108.070647 \nL 209.543182 9.234284 \n\" style=\"fill: none; stroke: #000000; stroke-width: 0.8; stroke-linejoin: miter; stroke-linecap: square\"/>\n   </g>\n   <g id=\"patch_9\">\n    <path d=\"M 308.379545 108.070647 \nL 308.379545 9.234284 \n\" style=\"fill: none; stroke: #000000; stroke-width: 0.8; stroke-linejoin: miter; stroke-linecap: square\"/>\n   </g>\n   <g id=\"patch_10\">\n    <path d=\"M 209.543182 108.070647 \nL 308.379545 108.070647 \n\" style=\"fill: none; stroke: #000000; stroke-width: 0.8; stroke-linejoin: miter; stroke-linecap: square\"/>\n   </g>\n   <g id=\"patch_11\">\n    <path d=\"M 209.543182 9.234284 \nL 308.379545 9.234284 \n\" style=\"fill: none; stroke: #000000; stroke-width: 0.8; stroke-linejoin: miter; stroke-linecap: square\"/>\n   </g>\n  </g>\n  <g id=\"axes_3\">\n   <g id=\"patch_12\">\n    <path d=\"M 26.925 226.674284 \nL 125.761364 226.674284 \nL 125.761364 127.83792 \nL 26.925 127.83792 \nz\n\" style=\"fill: #ffffff\"/>\n   </g>\n   <g clip-path=\"url(#p699426e396)\">\n    <image xlink:href=\"data:image/png;base64,\niVBORw0KGgoAAAANSUhEUgAAAGMAAABjCAYAAACPO76VAAACWklEQVR4nO3bsa4BQRiG4VlRadGqUUpUuAjR6d2Ei1BLtHr3oBYtSlpqJaebszPJyjmsnW8271PNZBKZ5PPPPzYrMcY8DSRUQm8AvwhDCGEIIQwhhCGEMIQQhhDCEEIYQghDCGEIIQwhhCGkGnoD72q1Wna8WCyctdFo5Mz7/b4dXy6X727sA1SGEMIQQhhCou0Z8/ncjsfjsbNWqbjfsUajYcf0DPwJYQiJ9phKHz3Pp/tOxW63c+b7/b6QPX2KyhBCGEIIQ0i0PWMymdjx4/Fw1pIkKXo7uaAyhBCGkGiOqeFw6MzTR5N/tfXnsaAyhBCGEMIQEk3P6Ha7zjzW6+srVIYQwhASzTG13W6defr6GutV1kdlCCEMIYQhJJqecTwenTlXW3wVYQgJfkzVarXMtfv9nrl2vV7tuF6v57qnUKgMIYQhhDCEBO8ZzWbTjv3HGq/ei91sNnY8m80yP9MY94W32+321j6LQGUIIQwhhCEkeM84n88ff4bfa/zfHfQM/BthCAl+TL2r0+nYsf8E13/C689VURlCCEMIYQiJtmccDgc7HgwGAXeSHypDCGEIifaYSivLywlUhhDCEEIYQkrRM3jxGbkjDCGlOKa42iJ3hCGEMISUomdwtUXuCENItMfU6XSyY/9q2263M+fKLydQGUIIQwhhCIm2Z6zXazueTqfOWq/Xc+av/jeohMoQQhhCoj2m0n89Xq1WztpyuSx6O7mgMoQQhhDCEJIYY8rxyLMEqAwhhCGEMIQQhhDCEEIYQghDCGEIIQwhhCGEMIQQhhDCEPIDWwJpJ+BETmoAAAAASUVORK5CYII=\" id=\"image1a338f591c\" transform=\"scale(1 -1)translate(0 -99)\" x=\"26.925\" y=\"-127.674284\" width=\"99\" height=\"99\"/>\n   </g>\n   <g id=\"matplotlib.axis_5\">\n    <g id=\"xtick_7\">\n     <g id=\"line2d_13\">\n      <g>\n       <use xlink:href=\"#m15be108ef9\" x=\"28.689935\" y=\"226.674284\" style=\"stroke: #000000; stroke-width: 0.8\"/>\n      </g>\n     </g>\n     <g id=\"text_13\">\n      <!-- 0 -->\n      <g transform=\"translate(25.508685 241.272721)scale(0.1 -0.1)\">\n       <use xlink:href=\"#DejaVuSans-30\"/>\n      </g>\n     </g>\n    </g>\n    <g id=\"xtick_8\">\n     <g id=\"line2d_14\">\n      <g>\n       <use xlink:href=\"#m15be108ef9\" x=\"63.988636\" y=\"226.674284\" style=\"stroke: #000000; stroke-width: 0.8\"/>\n      </g>\n     </g>\n     <g id=\"text_14\">\n      <!-- 10 -->\n      <g transform=\"translate(57.626136 241.272721)scale(0.1 -0.1)\">\n       <use xlink:href=\"#DejaVuSans-31\"/>\n       <use xlink:href=\"#DejaVuSans-30\" x=\"63.623047\"/>\n      </g>\n     </g>\n    </g>\n    <g id=\"xtick_9\">\n     <g id=\"line2d_15\">\n      <g>\n       <use xlink:href=\"#m15be108ef9\" x=\"99.287338\" y=\"226.674284\" style=\"stroke: #000000; stroke-width: 0.8\"/>\n      </g>\n     </g>\n     <g id=\"text_15\">\n      <!-- 20 -->\n      <g transform=\"translate(92.924838 241.272721)scale(0.1 -0.1)\">\n       <use xlink:href=\"#DejaVuSans-32\"/>\n       <use xlink:href=\"#DejaVuSans-30\" x=\"63.623047\"/>\n      </g>\n     </g>\n    </g>\n   </g>\n   <g id=\"matplotlib.axis_6\">\n    <g id=\"ytick_7\">\n     <g id=\"line2d_16\">\n      <g>\n       <use xlink:href=\"#m324842f6c7\" x=\"26.925\" y=\"129.602855\" style=\"stroke: #000000; stroke-width: 0.8\"/>\n      </g>\n     </g>\n     <g id=\"text_16\">\n      <!-- 0 -->\n      <g transform=\"translate(13.5625 133.402074)scale(0.1 -0.1)\">\n       <use xlink:href=\"#DejaVuSans-30\"/>\n      </g>\n     </g>\n    </g>\n    <g id=\"ytick_8\">\n     <g id=\"line2d_17\">\n      <g>\n       <use xlink:href=\"#m324842f6c7\" x=\"26.925\" y=\"164.901556\" style=\"stroke: #000000; stroke-width: 0.8\"/>\n      </g>\n     </g>\n     <g id=\"text_17\">\n      <!-- 10 -->\n      <g transform=\"translate(7.2 168.700775)scale(0.1 -0.1)\">\n       <use xlink:href=\"#DejaVuSans-31\"/>\n       <use xlink:href=\"#DejaVuSans-30\" x=\"63.623047\"/>\n      </g>\n     </g>\n    </g>\n    <g id=\"ytick_9\">\n     <g id=\"line2d_18\">\n      <g>\n       <use xlink:href=\"#m324842f6c7\" x=\"26.925\" y=\"200.200258\" style=\"stroke: #000000; stroke-width: 0.8\"/>\n      </g>\n     </g>\n     <g id=\"text_18\">\n      <!-- 20 -->\n      <g transform=\"translate(7.2 203.999476)scale(0.1 -0.1)\">\n       <use xlink:href=\"#DejaVuSans-32\"/>\n       <use xlink:href=\"#DejaVuSans-30\" x=\"63.623047\"/>\n      </g>\n     </g>\n    </g>\n   </g>\n   <g id=\"patch_13\">\n    <path d=\"M 26.925 226.674284 \nL 26.925 127.83792 \n\" style=\"fill: none; stroke: #000000; stroke-width: 0.8; stroke-linejoin: miter; stroke-linecap: square\"/>\n   </g>\n   <g id=\"patch_14\">\n    <path d=\"M 125.761364 226.674284 \nL 125.761364 127.83792 \n\" style=\"fill: none; stroke: #000000; stroke-width: 0.8; stroke-linejoin: miter; stroke-linecap: square\"/>\n   </g>\n   <g id=\"patch_15\">\n    <path d=\"M 26.925 226.674284 \nL 125.761364 226.674284 \n\" style=\"fill: none; stroke: #000000; stroke-width: 0.8; stroke-linejoin: miter; stroke-linecap: square\"/>\n   </g>\n   <g id=\"patch_16\">\n    <path d=\"M 26.925 127.83792 \nL 125.761364 127.83792 \n\" style=\"fill: none; stroke: #000000; stroke-width: 0.8; stroke-linejoin: miter; stroke-linecap: square\"/>\n   </g>\n  </g>\n  <g id=\"axes_4\">\n   <g id=\"patch_17\">\n    <path d=\"M 209.543182 226.674284 \nL 308.379545 226.674284 \nL 308.379545 127.83792 \nL 209.543182 127.83792 \nz\n\" style=\"fill: #ffffff\"/>\n   </g>\n   <g clip-path=\"url(#p8596ab33a5)\">\n    <image xlink:href=\"data:image/png;base64,\niVBORw0KGgoAAAANSUhEUgAAAGMAAABjCAYAAACPO76VAAAD3klEQVR4nO2cPyi9URjHz/WvSMliIX9KkpKFSKFsBiWDDJTBKIMJEwYlSVarbJjkz0JJmRj8VyxmLP6GYnuc5/R7/a7rPa/vvX0/0/fpOfeeR1/POee+971vzBjzYQgEaX9dAPmCZgBBM4DI+OsCviM7O1v0zMyMyvX39wfmRkZG/BbmCXYGEDQDiJgBPtoWFhaKvr6+jvt16enpPsrxDjsDCJoBBM0AAnrPSEv7+l9ZWVlRufb29sDXcc8gv4ZmAAG9TNm0tLSoeGtrK3DsxMSEisfHx73UFDbsDCBoBhA0Awjoq7Y2lZWVcY/t7u5W8eTkpOi3t7fQagobdgYQNAOIpDnaZmToFXVgYEC0++VSLBZTcUFBgeibmxsP1YUDOwMImgEEzQAiafYMF/tmhYeHB5Vz94zFxUXRvb29fgv7BewMIGgGEEm7TNlfIG1ubqpca2uriu/u7kSXlZWp3P39vYfqEoOdAQTNAIJmAJG0e4ZNfX29ivf29lT88fH1J3Z1danc8vKyv8J+CDsDCJoBREosUy72suTGZ2dnKldbWyv6+fnZb2H/gZ0BBM0AgmYAkZJ7xuDgoIpnZ2cDx9pH3b8+5rIzgKAZQKTkMlVSUqLii4sL0ZmZmSp3enoq2v0k//T05KG6YNgZQNAMIGgGEJHsGeXl5aKXlpZUbnh4WPTGxoaX+e0ja0dHR+C4iooKFV9dXXmpJwh2BhA0AwiaAUQke8b09LTooaEhlTs+Phbd0NCgcmFd0i4tLRV9dHSkcjk5OaIXFhZUrq+vL5T544WdAQTNACKSZaqtrU306upq4LjR0VEVT01NhV6Le1y1l7DX11eVq66uFn15eRl6LS7sDCBoBhA0A4hIfnr8+PgY1zj7IZDG6BuWDw4OVG5/fz/u+XNzc0V3dnaq3M7Ozj/HGWNMT0+P6LGxsbjnSxR2BhA0A4hIjrbNzc2it7e3E3qP8/NzFZ+cnIguLi5WOfdnZPn5+aLtpc8YY2pqakRnZWWp3MvLi+impiaVc5fNMGBnAEEzgKAZQESyZ+Tl5YleW1tTOfdKbRi4e4Z7I3QiHB4eqriurk70+/v7r9/fGHYGFDQDiMhvYmtsbFTx3Nyc6KqqqsDXuVdU3efc2ny3TLlHUvtq7Pz8vMoVFRUFzmE/wHJ3dzdw3E9gZwBBM4CgGUCk5I3PieIes9fX10W7x1f7AZa3t7ehzM/OAIJmAMFlCgh2BhA0AwiaAQTNAIJmAEEzgKAZQNAMIGgGEDQDCJoBBM0AgmYAQTOAoBlA0AwgaAYQNAMImgEEzQCCZgBBM4CgGUDQDCA+Ab6c3Gh2glOzAAAAAElFTkSuQmCC\" id=\"image689bf10a19\" transform=\"scale(1 -1)translate(0 -99)\" x=\"209.543182\" y=\"-127.674284\" width=\"99\" height=\"99\"/>\n   </g>\n   <g id=\"matplotlib.axis_7\">\n    <g id=\"xtick_10\">\n     <g id=\"line2d_19\">\n      <g>\n       <use xlink:href=\"#m15be108ef9\" x=\"211.308117\" y=\"226.674284\" style=\"stroke: #000000; stroke-width: 0.8\"/>\n      </g>\n     </g>\n     <g id=\"text_19\">\n      <!-- 0 -->\n      <g transform=\"translate(208.126867 241.272721)scale(0.1 -0.1)\">\n       <use xlink:href=\"#DejaVuSans-30\"/>\n      </g>\n     </g>\n    </g>\n    <g id=\"xtick_11\">\n     <g id=\"line2d_20\">\n      <g>\n       <use xlink:href=\"#m15be108ef9\" x=\"246.606818\" y=\"226.674284\" style=\"stroke: #000000; stroke-width: 0.8\"/>\n      </g>\n     </g>\n     <g id=\"text_20\">\n      <!-- 10 -->\n      <g transform=\"translate(240.244318 241.272721)scale(0.1 -0.1)\">\n       <use xlink:href=\"#DejaVuSans-31\"/>\n       <use xlink:href=\"#DejaVuSans-30\" x=\"63.623047\"/>\n      </g>\n     </g>\n    </g>\n    <g id=\"xtick_12\">\n     <g id=\"line2d_21\">\n      <g>\n       <use xlink:href=\"#m15be108ef9\" x=\"281.905519\" y=\"226.674284\" style=\"stroke: #000000; stroke-width: 0.8\"/>\n      </g>\n     </g>\n     <g id=\"text_21\">\n      <!-- 20 -->\n      <g transform=\"translate(275.543019 241.272721)scale(0.1 -0.1)\">\n       <use xlink:href=\"#DejaVuSans-32\"/>\n       <use xlink:href=\"#DejaVuSans-30\" x=\"63.623047\"/>\n      </g>\n     </g>\n    </g>\n   </g>\n   <g id=\"matplotlib.axis_8\">\n    <g id=\"ytick_10\">\n     <g id=\"line2d_22\">\n      <g>\n       <use xlink:href=\"#m324842f6c7\" x=\"209.543182\" y=\"129.602855\" style=\"stroke: #000000; stroke-width: 0.8\"/>\n      </g>\n     </g>\n     <g id=\"text_22\">\n      <!-- 0 -->\n      <g transform=\"translate(196.180682 133.402074)scale(0.1 -0.1)\">\n       <use xlink:href=\"#DejaVuSans-30\"/>\n      </g>\n     </g>\n    </g>\n    <g id=\"ytick_11\">\n     <g id=\"line2d_23\">\n      <g>\n       <use xlink:href=\"#m324842f6c7\" x=\"209.543182\" y=\"164.901556\" style=\"stroke: #000000; stroke-width: 0.8\"/>\n      </g>\n     </g>\n     <g id=\"text_23\">\n      <!-- 10 -->\n      <g transform=\"translate(189.818182 168.700775)scale(0.1 -0.1)\">\n       <use xlink:href=\"#DejaVuSans-31\"/>\n       <use xlink:href=\"#DejaVuSans-30\" x=\"63.623047\"/>\n      </g>\n     </g>\n    </g>\n    <g id=\"ytick_12\">\n     <g id=\"line2d_24\">\n      <g>\n       <use xlink:href=\"#m324842f6c7\" x=\"209.543182\" y=\"200.200258\" style=\"stroke: #000000; stroke-width: 0.8\"/>\n      </g>\n     </g>\n     <g id=\"text_24\">\n      <!-- 20 -->\n      <g transform=\"translate(189.818182 203.999476)scale(0.1 -0.1)\">\n       <use xlink:href=\"#DejaVuSans-32\"/>\n       <use xlink:href=\"#DejaVuSans-30\" x=\"63.623047\"/>\n      </g>\n     </g>\n    </g>\n   </g>\n   <g id=\"patch_18\">\n    <path d=\"M 209.543182 226.674284 \nL 209.543182 127.83792 \n\" style=\"fill: none; stroke: #000000; stroke-width: 0.8; stroke-linejoin: miter; stroke-linecap: square\"/>\n   </g>\n   <g id=\"patch_19\">\n    <path d=\"M 308.379545 226.674284 \nL 308.379545 127.83792 \n\" style=\"fill: none; stroke: #000000; stroke-width: 0.8; stroke-linejoin: miter; stroke-linecap: square\"/>\n   </g>\n   <g id=\"patch_20\">\n    <path d=\"M 209.543182 226.674284 \nL 308.379545 226.674284 \n\" style=\"fill: none; stroke: #000000; stroke-width: 0.8; stroke-linejoin: miter; stroke-linecap: square\"/>\n   </g>\n   <g id=\"patch_21\">\n    <path d=\"M 209.543182 127.83792 \nL 308.379545 127.83792 \n\" style=\"fill: none; stroke: #000000; stroke-width: 0.8; stroke-linejoin: miter; stroke-linecap: square\"/>\n   </g>\n  </g>\n </g>\n <defs>\n  <clipPath id=\"p1cf76cb5d7\">\n   <rect x=\"26.925\" y=\"9.234284\" width=\"98.836364\" height=\"98.836364\"/>\n  </clipPath>\n  <clipPath id=\"p4242de5416\">\n   <rect x=\"209.543182\" y=\"9.234284\" width=\"98.836364\" height=\"98.836364\"/>\n  </clipPath>\n  <clipPath id=\"p699426e396\">\n   <rect x=\"26.925\" y=\"127.83792\" width=\"98.836364\" height=\"98.836364\"/>\n  </clipPath>\n  <clipPath id=\"p8596ab33a5\">\n   <rect x=\"209.543182\" y=\"127.83792\" width=\"98.836364\" height=\"98.836364\"/>\n  </clipPath>\n </defs>\n</svg>\n",
      "text/plain": [
       "<Figure size 432x288 with 4 Axes>"
      ]
     },
     "metadata": {
      "needs_background": "light"
     },
     "output_type": "display_data"
    }
   ],
   "source": [
    "for example in tfds.as_numpy(ds):\n",
    "    print(f'=== evaluating image')\n",
    "    image, label = example[\"image\"], example[\"label\"]\n",
    "\n",
    "    print(f'=== this image is an {label}')\n",
    "    \n",
    "    label_vec = np.zeros((10, BATCH_SIZE))\n",
    "    for u, l in enumerate(label):\n",
    "        label_vec[l, u] = 1\n",
    "    print(label_vec)\n",
    "    \n",
    "    f, ax = plt.subplots(2,2)\n",
    "    ax[0,0].imshow(image[0], cmap='gray')\n",
    "    ax[0,1].imshow(image[1], cmap='gray')\n",
    "    ax[1,0].imshow(image[2], cmap='gray')\n",
    "    ax[1,1].imshow(image[3], cmap='gray')\n",
    "    \n",
    "    # preprocessing\n",
    "    image_nn = np.resize(image, (BATCH_SIZE, 28*28))\n",
    "    image_nn = np.moveaxis(image_nn, [0,1], [1,0])\n",
    "\n",
    "    pred = nn.predict(image_nn)\n",
    "    print(pred)\n",
    "    \n",
    "    plt.show()\n",
    "    \n",
    "    break"
   ]
  },
  {
   "cell_type": "code",
   "execution_count": null,
   "metadata": {},
   "outputs": [],
   "source": []
  }
 ],
 "metadata": {
  "kernelspec": {
   "display_name": "Python 3.10.4 ('tf')",
   "language": "python",
   "name": "python3"
  },
  "language_info": {
   "codemirror_mode": {
    "name": "ipython",
    "version": 3
   },
   "file_extension": ".py",
   "mimetype": "text/x-python",
   "name": "python",
   "nbconvert_exporter": "python",
   "pygments_lexer": "ipython3",
   "version": "3.10.4"
  },
  "orig_nbformat": 4,
  "vscode": {
   "interpreter": {
    "hash": "3d72c6a62894ebc3356fcca1104a021256b53c56f10894aa8cbe67974b0579cd"
   }
  }
 },
 "nbformat": 4,
 "nbformat_minor": 2
}
